{
  "nbformat": 4,
  "nbformat_minor": 0,
  "metadata": {
    "colab": {
      "name": "Assignment 3_ Trump vs. Obama_Your NetID.ipynb",
      "provenance": [],
      "collapsed_sections": [],
      "machine_shape": "hm"
    },
    "kernelspec": {
      "name": "python3",
      "display_name": "Python 3"
    },
    "accelerator": "GPU"
  },
  "cells": [
    {
      "cell_type": "markdown",
      "metadata": {
        "id": "GvKbQrULd4la",
        "colab_type": "text"
      },
      "source": [
        "# Scrape tweets and save as txt files"
      ]
    },
    {
      "cell_type": "code",
      "metadata": {
        "id": "67sDW7yLdtKP",
        "colab_type": "code",
        "colab": {
          "base_uri": "https://localhost:8080/",
          "height": 168
        },
        "outputId": "140956af-3d4f-461d-a7c1-fbad25024318"
      },
      "source": [
        "''' pip install getoldtweets3 '''"
      ],
      "execution_count": null,
      "outputs": [
        {
          "output_type": "stream",
          "text": [
            "Collecting getoldtweets3\n",
            "  Downloading https://files.pythonhosted.org/packages/ed/f4/a00c2a7c90801abc875325bb5416ce9090ac86d06a00cc887131bd73ba45/GetOldTweets3-0.0.11-py3-none-any.whl\n",
            "Requirement already satisfied: lxml>=3.5.0 in /usr/local/lib/python3.6/dist-packages (from getoldtweets3) (4.2.6)\n",
            "Collecting pyquery>=1.2.10\n",
            "  Downloading https://files.pythonhosted.org/packages/78/43/95d42e386c61cb639d1a0b94f0c0b9f0b7d6b981ad3c043a836c8b5bc68b/pyquery-1.4.1-py2.py3-none-any.whl\n",
            "Collecting cssselect>0.7.9\n",
            "  Downloading https://files.pythonhosted.org/packages/3b/d4/3b5c17f00cce85b9a1e6f91096e1cc8e8ede2e1be8e96b87ce1ed09e92c5/cssselect-1.1.0-py2.py3-none-any.whl\n",
            "Installing collected packages: cssselect, pyquery, getoldtweets3\n",
            "Successfully installed cssselect-1.1.0 getoldtweets3-0.0.11 pyquery-1.4.1\n"
          ],
          "name": "stdout"
        }
      ]
    },
    {
      "cell_type": "code",
      "metadata": {
        "id": "HpyTKPBYeMCg",
        "colab_type": "code",
        "colab": {}
      },
      "source": [
        "''' import GetOldTweets3 as got\n",
        "def scrape_tweets(username):\n",
        "  username = username\n",
        "  count = 2000\n",
        "  # Creation of query object\n",
        "  tweetCriteria = got.manager.TweetCriteria().setUsername(username)\\\n",
        "                                          .setMaxTweets(count)\n",
        "  # Creation of list that contains all tweets\n",
        "  tweets = got.manager.TweetManager.getTweets(tweetCriteria)\n",
        "  # Creating list of chosen tweet data\n",
        "  user_tweets = [[tweet.text] for tweet in tweets]\n",
        "  return user_tweets '''"
      ],
      "execution_count": null,
      "outputs": []
    },
    {
      "cell_type": "code",
      "metadata": {
        "id": "mYZDj_6YuB7x",
        "colab_type": "code",
        "colab": {}
      },
      "source": [
        "# Use above function to return tweets of Trump and Obama.\n",
        "# If there is certificate error, try again at another time, maybe several minutes later.\n",
        "# Your code here:"
      ],
      "execution_count": null,
      "outputs": []
    },
    {
      "cell_type": "code",
      "metadata": {
        "id": "UXA0tKyJgnc9",
        "colab_type": "code",
        "colab": {}
      },
      "source": [
        "''' trump = scrape_tweets('realDonaldTrump') '''"
      ],
      "execution_count": null,
      "outputs": []
    },
    {
      "cell_type": "code",
      "metadata": {
        "id": "ybk2WtCCpnaV",
        "colab_type": "code",
        "colab": {}
      },
      "source": [
        "''' obama = scrape_tweets('BarackObama') '''"
      ],
      "execution_count": null,
      "outputs": []
    },
    {
      "cell_type": "code",
      "metadata": {
        "id": "FiPF7dcVehjd",
        "colab_type": "code",
        "colab": {}
      },
      "source": [
        "''' # Save all tweets to two folders\n",
        "# Update the code with your own variables and paths.\n",
        "# The resulted files will be in two folders just like IMDB data.\n",
        "for i in range(0,len(trump)):\n",
        "  path='/content/drive/My Drive/Spring Deep Learning Class material /Week 4/Assignment3/Trump/trump'+str(i)+'.txt'\n",
        "  with open(path, \"w\") as output:\n",
        "    output.write(str(trump[i])) '''"
      ],
      "execution_count": null,
      "outputs": []
    },
    {
      "cell_type": "code",
      "metadata": {
        "id": "75o4u1LyeSD0",
        "colab_type": "code",
        "colab": {}
      },
      "source": [
        "''' for i in range(0,len(obama)):\n",
        "  path='/content/drive/My Drive/Spring Deep Learning Class material /Week 4/Assignment3/Obama/obama'+str(i)+'.txt'\n",
        "  with open(path, \"w\") as output:\n",
        "    output.write(str(obama[i])) '''"
      ],
      "execution_count": null,
      "outputs": []
    },
    {
      "cell_type": "markdown",
      "metadata": {
        "id": "WqshhrcNgP48",
        "colab_type": "text"
      },
      "source": [
        "# Loading data and prepare data for modeling"
      ]
    },
    {
      "cell_type": "code",
      "metadata": {
        "id": "azqOyQU_bp3K",
        "colab_type": "code",
        "colab": {
          "base_uri": "https://localhost:8080/",
          "height": 34
        },
        "outputId": "b9f1f0f8-539e-487b-ca03-0a7204955ccb"
      },
      "source": [
        "from google.colab import drive\n",
        "drive.mount('/content/drive')"
      ],
      "execution_count": null,
      "outputs": [
        {
          "output_type": "stream",
          "text": [
            "Drive already mounted at /content/drive; to attempt to forcibly remount, call drive.mount(\"/content/drive\", force_remount=True).\n"
          ],
          "name": "stdout"
        }
      ]
    },
    {
      "cell_type": "code",
      "metadata": {
        "id": "l-3u4Cy5gTqZ",
        "colab_type": "code",
        "colab": {}
      },
      "source": [
        "#Load the data you just saved from your drive\n",
        "import os\n",
        "data_dir = '/content/drive/My Drive/Spring Deep Learning Class material /Week 4/Assignment3'\n",
        "labels = []\n",
        "texts = []\n",
        "count = 0\n",
        "for label_type in ['Trump/', 'Obama/']:\n",
        "    dir_name = os.path.join(data_dir, label_type)\n",
        "    for fname in os.listdir(dir_name):\n",
        "        if fname[-4:] == '.txt':\n",
        "            count = count + 1\n",
        "            print(count)\n",
        "            f = open(os.path.join(dir_name, fname))\n",
        "            texts.append(f.read())\n",
        "            f.close()\n",
        "            if label_type == 'Obama/':\n",
        "                labels.append(0)\n",
        "            else:\n",
        "                labels.append(1)"
      ],
      "execution_count": null,
      "outputs": []
    },
    {
      "cell_type": "code",
      "metadata": {
        "id": "c--tDdA4gdBT",
        "colab_type": "code",
        "colab": {}
      },
      "source": [
        "# Tokenize, pad and prepare training and validation data\n",
        "import keras\n",
        "keras.__version__\n",
        "from keras.preprocessing.text import Tokenizer\n",
        "from keras.preprocessing.sequence import pad_sequences\n",
        "import numpy as np\n",
        "\n",
        "maxlen = 20  \n",
        "training_samples = 3000 \n",
        "validation_samples = 1000  \n",
        "max_words = 1000  \n"
      ],
      "execution_count": null,
      "outputs": []
    },
    {
      "cell_type": "code",
      "metadata": {
        "id": "Vjm05E2tsnUG",
        "colab_type": "code",
        "colab": {
          "base_uri": "https://localhost:8080/",
          "height": 67
        },
        "outputId": "47ce031a-d026-4040-c775-29d202a4302f"
      },
      "source": [
        "# tokenizer data\n",
        "tokenizer = Tokenizer(num_words=max_words)\n",
        "\n",
        "tokenizer.fit_on_texts(texts)\n",
        "\n",
        "sequences = tokenizer.texts_to_sequences(texts)\n",
        "\n",
        "word_index = tokenizer.word_index\n",
        "print('Found %s unique tokens.' % len(word_index))\n",
        "\n",
        "data = pad_sequences(sequences, maxlen=maxlen)\n",
        "\n",
        "labels = np.asarray(labels)\n",
        "print('Shape of data tensor:', data.shape)\n",
        "print('Shape of label tensor:', labels.shape)"
      ],
      "execution_count": null,
      "outputs": [
        {
          "output_type": "stream",
          "text": [
            "Found 10168 unique tokens.\n",
            "Shape of data tensor: (4000, 20)\n",
            "Shape of label tensor: (4000,)\n"
          ],
          "name": "stdout"
        }
      ]
    },
    {
      "cell_type": "code",
      "metadata": {
        "id": "T42gbULxs3F1",
        "colab_type": "code",
        "colab": {}
      },
      "source": [
        "# Split the data into a training set and a validation set\n",
        "indices = np.arange(data.shape[0])\n",
        "np.random.shuffle(indices)\n",
        "data = data[indices]\n",
        "labels = labels[indices]\n",
        "\n",
        "x_train = data[:training_samples] # from 0 to (200) training samples\n",
        "y_train = labels[:training_samples]\n",
        "x_val = data[training_samples: training_samples + validation_samples]\n",
        "y_val = labels[training_samples: training_samples + validation_samples]"
      ],
      "execution_count": null,
      "outputs": []
    },
    {
      "cell_type": "markdown",
      "metadata": {
        "id": "TWWG_J0Tg7O8",
        "colab_type": "text"
      },
      "source": [
        "# Modeling: Fit three models with different architecture"
      ]
    },
    {
      "cell_type": "markdown",
      "metadata": {
        "id": "Re-webQ_rl8z",
        "colab_type": "text"
      },
      "source": [
        "Model 1 convolutional 1D, Bidirectional LSTM, maxlen = 20,max_words = 1000,dimension=100"
      ]
    },
    {
      "cell_type": "code",
      "metadata": {
        "id": "HN_ebOaUMnMg",
        "colab_type": "code",
        "colab": {}
      },
      "source": [
        "!pip install --upgrade tensorflow"
      ],
      "execution_count": null,
      "outputs": []
    },
    {
      "cell_type": "code",
      "metadata": {
        "id": "Yg9nycY2Ph6M",
        "colab_type": "code",
        "colab": {}
      },
      "source": [
        "!pip show tensorflow"
      ],
      "execution_count": null,
      "outputs": []
    },
    {
      "cell_type": "code",
      "metadata": {
        "id": "CU7l9HYFT9iY",
        "colab_type": "code",
        "colab": {}
      },
      "source": [
        "import pandas as pd\n",
        "import tensorflow as tf\n",
        "import numpy as np\n",
        "import matplotlib.pyplot as plt\n",
        "import os, cv2\n",
        "# import the necessary packages -- cnn_regression\n",
        "from keras.models import Sequential\n",
        "from keras.layers.convolutional import Conv1D\n",
        "from keras.layers.convolutional import MaxPooling1D\n",
        "from keras.layers.core import Activation\n",
        "from keras.layers.core import Dropout\n",
        "from keras.layers.core import Dense\n",
        "from keras.layers import Flatten\n",
        "from keras.layers import Input\n",
        "from keras.models import Model\n",
        "from keras.optimizers import Adam, RMSprop\n",
        "from numpy import savez_compressed\n",
        "from keras.callbacks import EarlyStopping\n",
        "from tensorflow.keras.callbacks import EarlyStopping"
      ],
      "execution_count": null,
      "outputs": []
    },
    {
      "cell_type": "code",
      "metadata": {
        "id": "lTVQ4eBbCP-z",
        "colab_type": "code",
        "colab": {
          "base_uri": "https://localhost:8080/",
          "height": 554
        },
        "outputId": "8447a53e-ec77-4f52-de0f-ac580ce3a002"
      },
      "source": [
        "# now, we are ready to model!\n",
        "from tensorflow import keras\n",
        "from tensorflow.keras import layers\n",
        "from keras.models import Sequential\n",
        "from keras.layers import Dense\n",
        "from keras.layers.convolutional import Convolution1D\n",
        "from keras.layers.convolutional import MaxPooling1D\n",
        "from keras.layers.embeddings import Embedding\n",
        "from tensorflow.keras.callbacks import EarlyStopping\n",
        "from tensorflow.keras.layers import LSTM\n",
        "\n",
        "# define model\n",
        "embedding_dim = 100\n",
        "model1 = tf.keras.Sequential()\n",
        "model1.add(tf.keras.layers.Embedding(max_words, embedding_dim , input_length=maxlen))\n",
        "\n",
        "model1.add(tf.keras.layers.Convolution1D(filters=32, kernel_size=3, padding='same', activation='relu'))\n",
        "model1.add(tf.keras.layers.MaxPooling1D(pool_size=2))\n",
        "model1.add(tf.keras.layers.Dropout(0.5))\n",
        "\n",
        "model1.add(tf.keras.layers.Bidirectional(LSTM(30)))\n",
        "model1.add(tf.keras.layers.Dropout(0.5))\n",
        "model1.add(tf.keras.layers.Flatten())\n",
        "\n",
        "model1.add(tf.keras.layers.Dense(256, activation='relu'))\n",
        "model1.add(tf.keras.layers.Dropout(0.5))\n",
        "model1.add(tf.keras.layers.Dense(128, activation='relu'))\n",
        "model1.add(tf.keras.layers.Dropout(0.5))\n",
        "model1.add(tf.keras.layers.Dense(1, activation='sigmoid'))\n",
        "model1.summary()\n",
        "\n"
      ],
      "execution_count": null,
      "outputs": [
        {
          "output_type": "stream",
          "text": [
            "Model: \"sequential_4\"\n",
            "_________________________________________________________________\n",
            "Layer (type)                 Output Shape              Param #   \n",
            "=================================================================\n",
            "embedding_4 (Embedding)      (None, 20, 100)           100000    \n",
            "_________________________________________________________________\n",
            "conv1d_2 (Conv1D)            (None, 20, 32)            9632      \n",
            "_________________________________________________________________\n",
            "max_pooling1d_2 (MaxPooling1 (None, 10, 32)            0         \n",
            "_________________________________________________________________\n",
            "dropout_11 (Dropout)         (None, 10, 32)            0         \n",
            "_________________________________________________________________\n",
            "bidirectional_3 (Bidirection (None, 60)                15120     \n",
            "_________________________________________________________________\n",
            "dropout_12 (Dropout)         (None, 60)                0         \n",
            "_________________________________________________________________\n",
            "flatten_4 (Flatten)          (None, 60)                0         \n",
            "_________________________________________________________________\n",
            "dense_9 (Dense)              (None, 256)               15616     \n",
            "_________________________________________________________________\n",
            "dropout_13 (Dropout)         (None, 256)               0         \n",
            "_________________________________________________________________\n",
            "dense_10 (Dense)             (None, 128)               32896     \n",
            "_________________________________________________________________\n",
            "dropout_14 (Dropout)         (None, 128)               0         \n",
            "_________________________________________________________________\n",
            "dense_11 (Dense)             (None, 1)                 129       \n",
            "=================================================================\n",
            "Total params: 173,393\n",
            "Trainable params: 173,393\n",
            "Non-trainable params: 0\n",
            "_________________________________________________________________\n"
          ],
          "name": "stdout"
        }
      ]
    },
    {
      "cell_type": "code",
      "metadata": {
        "id": "gKnK8l-5b3x1",
        "colab_type": "code",
        "colab": {}
      },
      "source": [
        "model1.compile(optimizer='adam',\n",
        "              loss='binary_crossentropy',\n",
        "              metrics=['acc'])\n"
      ],
      "execution_count": null,
      "outputs": []
    },
    {
      "cell_type": "code",
      "metadata": {
        "id": "AF8jAuvufBWX",
        "colab_type": "code",
        "colab": {}
      },
      "source": [
        "\n",
        "es = EarlyStopping(monitor='val_loss', mode='min', \n",
        "                   patience=10, \n",
        "                   verbose=1)"
      ],
      "execution_count": null,
      "outputs": []
    },
    {
      "cell_type": "code",
      "metadata": {
        "id": "TcAd91YqfE68",
        "colab_type": "code",
        "colab": {
          "base_uri": "https://localhost:8080/",
          "height": 470
        },
        "outputId": "6476a8b8-f6c9-47f2-e947-6c14ad6a9d64"
      },
      "source": [
        "\n",
        "history = model1.fit(x_train, y_train, validation_data=(x_val, y_val), epochs=500, batch_size=16,verbose=1,callbacks=[es])"
      ],
      "execution_count": null,
      "outputs": [
        {
          "output_type": "stream",
          "text": [
            "Epoch 1/500\n",
            "188/188 [==============================] - 3s 17ms/step - loss: 0.3789 - acc: 0.8133 - val_loss: 0.1206 - val_acc: 0.9540\n",
            "Epoch 2/500\n",
            "188/188 [==============================] - 2s 13ms/step - loss: 0.1052 - acc: 0.9637 - val_loss: 0.1289 - val_acc: 0.9470\n",
            "Epoch 3/500\n",
            "188/188 [==============================] - 2s 12ms/step - loss: 0.0610 - acc: 0.9823 - val_loss: 0.1134 - val_acc: 0.9530\n",
            "Epoch 4/500\n",
            "188/188 [==============================] - 2s 12ms/step - loss: 0.0465 - acc: 0.9840 - val_loss: 0.1490 - val_acc: 0.9520\n",
            "Epoch 5/500\n",
            "188/188 [==============================] - 2s 12ms/step - loss: 0.0391 - acc: 0.9877 - val_loss: 0.1769 - val_acc: 0.9530\n",
            "Epoch 6/500\n",
            "188/188 [==============================] - 2s 12ms/step - loss: 0.0283 - acc: 0.9903 - val_loss: 0.2472 - val_acc: 0.9510\n",
            "Epoch 7/500\n",
            "188/188 [==============================] - 2s 12ms/step - loss: 0.0213 - acc: 0.9947 - val_loss: 0.2325 - val_acc: 0.9480\n",
            "Epoch 8/500\n",
            "188/188 [==============================] - 2s 12ms/step - loss: 0.0205 - acc: 0.9950 - val_loss: 0.2555 - val_acc: 0.9500\n",
            "Epoch 9/500\n",
            "188/188 [==============================] - 2s 12ms/step - loss: 0.0183 - acc: 0.9957 - val_loss: 0.3241 - val_acc: 0.9450\n",
            "Epoch 10/500\n",
            "188/188 [==============================] - 2s 12ms/step - loss: 0.0227 - acc: 0.9927 - val_loss: 0.3459 - val_acc: 0.9420\n",
            "Epoch 11/500\n",
            "188/188 [==============================] - 2s 11ms/step - loss: 0.0147 - acc: 0.9960 - val_loss: 0.3283 - val_acc: 0.9440\n",
            "Epoch 12/500\n",
            "188/188 [==============================] - 2s 12ms/step - loss: 0.0138 - acc: 0.9950 - val_loss: 0.3423 - val_acc: 0.9460\n",
            "Epoch 13/500\n",
            "188/188 [==============================] - 2s 12ms/step - loss: 0.0209 - acc: 0.9947 - val_loss: 0.2830 - val_acc: 0.9380\n",
            "Epoch 00013: early stopping\n"
          ],
          "name": "stdout"
        }
      ]
    },
    {
      "cell_type": "code",
      "metadata": {
        "id": "iusd0d_hcatv",
        "colab_type": "code",
        "colab": {
          "base_uri": "https://localhost:8080/",
          "height": 34
        },
        "outputId": "b06796f4-872d-4bab-d7d6-2e460a696fe4"
      },
      "source": [
        "scores = model1.evaluate(x_val, y_val, verbose=0)\n",
        "print(\"Accuracy: %.2f%%\" % (scores[1]*100))"
      ],
      "execution_count": null,
      "outputs": [
        {
          "output_type": "stream",
          "text": [
            "Accuracy: 93.80%\n"
          ],
          "name": "stdout"
        }
      ]
    },
    {
      "cell_type": "code",
      "metadata": {
        "id": "Hpbf5wKzlVUa",
        "colab_type": "code",
        "colab": {
          "base_uri": "https://localhost:8080/",
          "height": 295
        },
        "outputId": "a0d788f1-2ec4-4ac2-ff89-6b74dc6806f1"
      },
      "source": [
        "history_dict = history.history\n",
        "loss_values = history_dict['loss'] # you can change this\n",
        "val_loss_values = history_dict['val_loss'] # you can also change this\n",
        "epochs = range(1, len(loss_values) + 1) #acc wasn't defined before\n",
        "plt.plot(epochs, loss_values, 'bo', label='Training loss')\n",
        "plt.plot(epochs, val_loss_values, 'orange', label='Validation loss')\n",
        "plt.title('Training and validation loss')\n",
        "plt.xlabel('Epochs')\n",
        "plt.ylabel('Loss')\n",
        "plt.legend()\n",
        "plt.show()"
      ],
      "execution_count": null,
      "outputs": [
        {
          "output_type": "display_data",
          "data": {
            "image/png": "[encoded data removed]",
            "text/plain": [
              "<Figure size 432x288 with 1 Axes>"
            ]
          },
          "metadata": {
            "tags": []
          }
        }
      ]
    },
    {
      "cell_type": "code",
      "metadata": {
        "id": "H0nu8Ns48G5d",
        "colab_type": "code",
        "colab": {
          "base_uri": "https://localhost:8080/",
          "height": 222
        },
        "outputId": "c0003fce-51d5-4de4-e73f-16c40015fdd4"
      },
      "source": [
        "# Confusion Matrix \n",
        "import os\n",
        "from sklearn.metrics import classification_report\n",
        "pred_val1= model1.predict(x_val) \n",
        "pred_val1 = np.empty(pred_val.shape)\n",
        "i=0\n",
        "while i < len(pred_val):\n",
        "  if(pred_val1)[i] >= 0.5:\n",
        "    pred_val1[i] = 1\n",
        "  else:\n",
        "    pred_val1[i] = 0\n",
        "    i +=1\n",
        "print (classification_report(y_val,pred_val1))"
      ],
      "execution_count": null,
      "outputs": [
        {
          "output_type": "stream",
          "text": [
            "              precision    recall  f1-score   support\n",
            "\n",
            "           0       0.52      1.00      0.68       518\n",
            "           1       0.00      0.00      0.00       482\n",
            "\n",
            "    accuracy                           0.52      1000\n",
            "   macro avg       0.26      0.50      0.34      1000\n",
            "weighted avg       0.27      0.52      0.35      1000\n",
            "\n"
          ],
          "name": "stdout"
        },
        {
          "output_type": "stream",
          "text": [
            "/usr/local/lib/python3.6/dist-packages/sklearn/metrics/_classification.py:1272: UndefinedMetricWarning: Precision and F-score are ill-defined and being set to 0.0 in labels with no predicted samples. Use `zero_division` parameter to control this behavior.\n",
            "  _warn_prf(average, modifier, msg_start, len(result))\n"
          ],
          "name": "stderr"
        }
      ]
    },
    {
      "cell_type": "markdown",
      "metadata": {
        "id": "hkWOgc_NsaJU",
        "colab_type": "text"
      },
      "source": [
        "Model 2 \n",
        "Bidirectional GRU, maxlen = 50, max_words = 100\n"
      ]
    },
    {
      "cell_type": "code",
      "metadata": {
        "id": "wrYQ3HUosccg",
        "colab_type": "code",
        "colab": {}
      },
      "source": [
        "from keras.preprocessing.text import Tokenizer\n",
        "from keras.preprocessing.sequence import pad_sequences\n",
        "import numpy as np\n",
        "\n",
        "maxlen = 50  \n",
        "training_samples = 3000  \n",
        "validation_samples = 1000  \n",
        "max_words = 100 "
      ],
      "execution_count": null,
      "outputs": []
    },
    {
      "cell_type": "code",
      "metadata": {
        "id": "j6LYgaS9s580",
        "colab_type": "code",
        "colab": {
          "base_uri": "https://localhost:8080/",
          "height": 67
        },
        "outputId": "465878bf-570d-4e7a-d9ee-52dadcf81656"
      },
      "source": [
        "# tokenizer our data \n",
        "tokenizer = Tokenizer(num_words=max_words)\n",
        "\n",
        "tokenizer.fit_on_texts(texts)\n",
        "\n",
        "sequences = tokenizer.texts_to_sequences(texts)\n",
        "\n",
        "word_index = tokenizer.word_index\n",
        "print('Found %s unique tokens.' % len(word_index))\n",
        "\n",
        "data = pad_sequences(sequences, maxlen=maxlen)\n",
        "\n",
        "labels = np.asarray(labels)\n",
        "print('Shape of data tensor:', data.shape)\n",
        "print('Shape of label tensor:', labels.shape)"
      ],
      "execution_count": null,
      "outputs": [
        {
          "output_type": "stream",
          "text": [
            "Found 10168 unique tokens.\n",
            "Shape of data tensor: (4000, 20)\n",
            "Shape of label tensor: (4000,)\n"
          ],
          "name": "stdout"
        }
      ]
    },
    {
      "cell_type": "code",
      "metadata": {
        "id": "f6zBzJLktAMA",
        "colab_type": "code",
        "colab": {}
      },
      "source": [
        "# Split the data into a training set and a validation set\n",
        "\n",
        "indices = np.arange(data.shape[0])\n",
        "np.random.shuffle(indices)\n",
        "data = data[indices]\n",
        "labels = labels[indices]\n",
        "\n",
        "x_train = data[:training_samples] # from 0 to (200) training samples\n",
        "y_train = labels[:training_samples]\n",
        "x_val = data[training_samples: training_samples + validation_samples]\n",
        "y_val = labels[training_samples: training_samples + validation_samples]"
      ],
      "execution_count": null,
      "outputs": []
    },
    {
      "cell_type": "code",
      "metadata": {
        "id": "NVmy5Xf9tHAX",
        "colab_type": "code",
        "colab": {
          "base_uri": "https://localhost:8080/",
          "height": 386
        },
        "outputId": "4d46d66c-e29c-416d-ed3b-242594853e8a"
      },
      "source": [
        "# model2\n",
        "from tensorflow.keras.layers import Input, Dense, SimpleRNN, LSTM, GRU, Conv2D\n",
        "\n",
        "embedding_dim = 100\n",
        "model2 = tf.keras.Sequential()\n",
        "model2.add(tf.keras.layers.Embedding(max_words, embedding_dim , input_length=maxlen))\n",
        "\n",
        "model2.add(tf.keras.layers.Bidirectional(GRU(30)))\n",
        "model2.add(tf.keras.layers.Dropout(0.5))\n",
        "model2.add(tf.keras.layers.Flatten())\n",
        "\n",
        "model2.add(tf.keras.layers.Dense(128, activation='relu'))\n",
        "model2.add(tf.keras.layers.Dropout(0.5))\n",
        "model2.add(tf.keras.layers.Dense(1, activation='sigmoid'))\n",
        "model2.summary()"
      ],
      "execution_count": null,
      "outputs": [
        {
          "output_type": "stream",
          "text": [
            "Model: \"sequential_5\"\n",
            "_________________________________________________________________\n",
            "Layer (type)                 Output Shape              Param #   \n",
            "=================================================================\n",
            "embedding_5 (Embedding)      (None, 20, 100)           100000    \n",
            "_________________________________________________________________\n",
            "bidirectional_4 (Bidirection (None, 60)                23760     \n",
            "_________________________________________________________________\n",
            "dropout_15 (Dropout)         (None, 60)                0         \n",
            "_________________________________________________________________\n",
            "flatten_5 (Flatten)          (None, 60)                0         \n",
            "_________________________________________________________________\n",
            "dense_12 (Dense)             (None, 128)               7808      \n",
            "_________________________________________________________________\n",
            "dropout_16 (Dropout)         (None, 128)               0         \n",
            "_________________________________________________________________\n",
            "dense_13 (Dense)             (None, 1)                 129       \n",
            "=================================================================\n",
            "Total params: 131,697\n",
            "Trainable params: 131,697\n",
            "Non-trainable params: 0\n",
            "_________________________________________________________________\n"
          ],
          "name": "stdout"
        }
      ]
    },
    {
      "cell_type": "code",
      "metadata": {
        "id": "r86cSmeNtiZH",
        "colab_type": "code",
        "colab": {}
      },
      "source": [
        "model2.compile(optimizer='adam',\n",
        "              loss='binary_crossentropy',\n",
        "              metrics=['acc'])\n"
      ],
      "execution_count": null,
      "outputs": []
    },
    {
      "cell_type": "code",
      "metadata": {
        "id": "IMvJdIoatlPP",
        "colab_type": "code",
        "colab": {}
      },
      "source": [
        "\n",
        "es = EarlyStopping(monitor='val_loss', mode='min', \n",
        "                   patience=10, \n",
        "                   verbose=1)"
      ],
      "execution_count": null,
      "outputs": []
    },
    {
      "cell_type": "code",
      "metadata": {
        "id": "0g8W1uShtqJD",
        "colab_type": "code",
        "colab": {
          "base_uri": "https://localhost:8080/",
          "height": 437
        },
        "outputId": "6f51e9da-f739-4ae6-f9b2-ae6a648a9af7"
      },
      "source": [
        "history = model2.fit(x_train, y_train, validation_data=(x_val, y_val), epochs=500, batch_size=16,verbose=1,callbacks=[es])"
      ],
      "execution_count": null,
      "outputs": [
        {
          "output_type": "stream",
          "text": [
            "Epoch 1/500\n",
            "188/188 [==============================] - 3s 15ms/step - loss: 0.2999 - acc: 0.8777 - val_loss: 0.1450 - val_acc: 0.9390\n",
            "Epoch 2/500\n",
            "188/188 [==============================] - 2s 11ms/step - loss: 0.0929 - acc: 0.9687 - val_loss: 0.1333 - val_acc: 0.9510\n",
            "Epoch 3/500\n",
            "188/188 [==============================] - 2s 11ms/step - loss: 0.0585 - acc: 0.9830 - val_loss: 0.1608 - val_acc: 0.9500\n",
            "Epoch 4/500\n",
            "188/188 [==============================] - 2s 11ms/step - loss: 0.0354 - acc: 0.9903 - val_loss: 0.1920 - val_acc: 0.9420\n",
            "Epoch 5/500\n",
            "188/188 [==============================] - 2s 11ms/step - loss: 0.0299 - acc: 0.9907 - val_loss: 0.2381 - val_acc: 0.9410\n",
            "Epoch 6/500\n",
            "188/188 [==============================] - 2s 11ms/step - loss: 0.0237 - acc: 0.9933 - val_loss: 0.2542 - val_acc: 0.9450\n",
            "Epoch 7/500\n",
            "188/188 [==============================] - 2s 11ms/step - loss: 0.0186 - acc: 0.9953 - val_loss: 0.2935 - val_acc: 0.9430\n",
            "Epoch 8/500\n",
            "188/188 [==============================] - 2s 11ms/step - loss: 0.0209 - acc: 0.9930 - val_loss: 0.2784 - val_acc: 0.9440\n",
            "Epoch 9/500\n",
            "188/188 [==============================] - 2s 11ms/step - loss: 0.0242 - acc: 0.9930 - val_loss: 0.2604 - val_acc: 0.9470\n",
            "Epoch 10/500\n",
            "188/188 [==============================] - 2s 11ms/step - loss: 0.0138 - acc: 0.9963 - val_loss: 0.2731 - val_acc: 0.9450\n",
            "Epoch 11/500\n",
            "188/188 [==============================] - 2s 11ms/step - loss: 0.0121 - acc: 0.9963 - val_loss: 0.3065 - val_acc: 0.9400\n",
            "Epoch 12/500\n",
            "188/188 [==============================] - 2s 11ms/step - loss: 0.0096 - acc: 0.9977 - val_loss: 0.3089 - val_acc: 0.9440\n",
            "Epoch 00012: early stopping\n"
          ],
          "name": "stdout"
        }
      ]
    },
    {
      "cell_type": "code",
      "metadata": {
        "id": "fU2LScrytwV0",
        "colab_type": "code",
        "colab": {
          "base_uri": "https://localhost:8080/",
          "height": 34
        },
        "outputId": "b798e7f4-523b-420e-9761-673be47f9790"
      },
      "source": [
        "scores = model2.evaluate(x_val, y_val, verbose=0)\n",
        "print(\"Accuracy: %.2f%%\" % (scores[1]*100))"
      ],
      "execution_count": null,
      "outputs": [
        {
          "output_type": "stream",
          "text": [
            "Accuracy: 94.40%\n"
          ],
          "name": "stdout"
        }
      ]
    },
    {
      "cell_type": "code",
      "metadata": {
        "id": "uhaSwxhEtyvf",
        "colab_type": "code",
        "colab": {
          "base_uri": "https://localhost:8080/",
          "height": 295
        },
        "outputId": "2307862a-0567-41d8-b1b0-233464df0f00"
      },
      "source": [
        "history_dict = history.history\n",
        "loss_values = history_dict['loss'] # you can change this\n",
        "val_loss_values = history_dict['val_loss'] # you can also change this\n",
        "epochs = range(1, len(loss_values) + 1) #acc wasn't defined before\n",
        "plt.plot(epochs, loss_values, 'bo', label='Training loss')\n",
        "plt.plot(epochs, val_loss_values, 'orange', label='Validation loss')\n",
        "plt.title('Training and validation loss')\n",
        "plt.xlabel('Epochs')\n",
        "plt.ylabel('Loss')\n",
        "plt.legend()\n",
        "plt.show()"
      ],
      "execution_count": null,
      "outputs": [
        {
          "output_type": "display_data",
          "data": {
            "image/png": "[encoded data removed]",
            "text/plain": [
              "<Figure size 432x288 with 1 Axes>"
            ]
          },
          "metadata": {
            "tags": []
          }
        }
      ]
    },
    {
      "cell_type": "code",
      "metadata": {
        "id": "SC0ZegZm9_lt",
        "colab_type": "code",
        "colab": {
          "base_uri": "https://localhost:8080/",
          "height": 222
        },
        "outputId": "3c5468dd-ea11-4f12-d643-178e66e87dd6"
      },
      "source": [
        "# Confusion Matrix \n",
        "import os\n",
        "from sklearn.metrics import classification_report\n",
        "pred_val2= model1.predict(x_val) \n",
        "pred_val2 = np.empty(pred_val.shape)\n",
        "i=0\n",
        "while i < len(pred_val):\n",
        "  if(pred_val2)[i] >= 0.7:\n",
        "    pred_val2[i] = 1\n",
        "  else:\n",
        "    pred_val2[i] = 0\n",
        "    i +=1\n",
        "print (classification_report(y_val,pred_val2))"
      ],
      "execution_count": null,
      "outputs": [
        {
          "output_type": "stream",
          "text": [
            "              precision    recall  f1-score   support\n",
            "\n",
            "           0       0.51      1.00      0.68       510\n",
            "           1       0.00      0.00      0.00       490\n",
            "\n",
            "    accuracy                           0.51      1000\n",
            "   macro avg       0.26      0.50      0.34      1000\n",
            "weighted avg       0.26      0.51      0.34      1000\n",
            "\n"
          ],
          "name": "stdout"
        },
        {
          "output_type": "stream",
          "text": [
            "/usr/local/lib/python3.6/dist-packages/sklearn/metrics/_classification.py:1272: UndefinedMetricWarning: Precision and F-score are ill-defined and being set to 0.0 in labels with no predicted samples. Use `zero_division` parameter to control this behavior.\n",
            "  _warn_prf(average, modifier, msg_start, len(result))\n"
          ],
          "name": "stderr"
        }
      ]
    },
    {
      "cell_type": "markdown",
      "metadata": {
        "id": "kZAWLhBJu7cX",
        "colab_type": "text"
      },
      "source": [
        "Model 3\n"
      ]
    },
    {
      "cell_type": "code",
      "metadata": {
        "id": "ECoU0QKcu-x0",
        "colab_type": "code",
        "colab": {}
      },
      "source": [
        "from keras.preprocessing.text import Tokenizer\n",
        "from keras.preprocessing.sequence import pad_sequences\n",
        "import numpy as np\n",
        "\n",
        "maxlen = 100 \n",
        "training_samples = 3000  \n",
        "validation_samples = 1000 \n",
        "max_words = 10000  "
      ],
      "execution_count": null,
      "outputs": []
    },
    {
      "cell_type": "code",
      "metadata": {
        "id": "4uHhrFsovKeE",
        "colab_type": "code",
        "colab": {
          "base_uri": "https://localhost:8080/",
          "height": 67
        },
        "outputId": "32bc73fd-0c36-457b-aaed-4e9a4a794315"
      },
      "source": [
        "# tokenizer data \n",
        "tokenizer = Tokenizer(num_words=max_words)\n",
        "\n",
        "tokenizer.fit_on_texts(texts)\n",
        "\n",
        "sequences = tokenizer.texts_to_sequences(texts)\n",
        "\n",
        "word_index = tokenizer.word_index\n",
        "print('Found %s unique tokens.' % len(word_index))\n",
        "\n",
        "data = pad_sequences(sequences, maxlen=maxlen)\n",
        "\n",
        "labels = np.asarray(labels)\n",
        "print('Shape of data tensor:', data.shape)\n",
        "print('Shape of label tensor:', labels.shape)"
      ],
      "execution_count": null,
      "outputs": [
        {
          "output_type": "stream",
          "text": [
            "Found 10168 unique tokens.\n",
            "Shape of data tensor: (4000, 100)\n",
            "Shape of label tensor: (4000,)\n"
          ],
          "name": "stdout"
        }
      ]
    },
    {
      "cell_type": "code",
      "metadata": {
        "id": "wDQ9cwORvNqg",
        "colab_type": "code",
        "colab": {}
      },
      "source": [
        "# Split the data into a training set and a validation set\n",
        "indices = np.arange(data.shape[0])\n",
        "np.random.shuffle(indices)\n",
        "data = data[indices]\n",
        "labels = labels[indices]\n",
        "\n",
        "x_train = data[:training_samples]\n",
        "y_train = labels[:training_samples]\n",
        "x_val = data[training_samples: training_samples + validation_samples]\n",
        "y_val = labels[training_samples: training_samples + validation_samples]"
      ],
      "execution_count": null,
      "outputs": []
    },
    {
      "cell_type": "code",
      "metadata": {
        "id": "8i3Rj7MuvQJj",
        "colab_type": "code",
        "colab": {
          "base_uri": "https://localhost:8080/",
          "height": 319
        },
        "outputId": "96aec5e4-561e-489f-94f2-1de57cf0e94a"
      },
      "source": [
        "# model3\n",
        "from tensorflow.keras.layers import Input, Dense, SimpleRNN, LSTM, GRU, Conv2D\n",
        "\n",
        "embedding_dim = 100\n",
        "model3 = tf.keras.Sequential()\n",
        "model3.add(tf.keras.layers.Embedding(max_words, embedding_dim , input_length=maxlen))\n",
        "\n",
        "model3.add(tf.keras.layers.LSTM(30))\n",
        "model3.add(tf.keras.layers.Dropout(0.5))\n",
        "model3.add(tf.keras.layers.Flatten())\n",
        "\n",
        "model3.add(tf.keras.layers.Dense(1, activation='sigmoid'))\n",
        "model3.summary()"
      ],
      "execution_count": null,
      "outputs": [
        {
          "output_type": "stream",
          "text": [
            "Model: \"sequential\"\n",
            "_________________________________________________________________\n",
            "Layer (type)                 Output Shape              Param #   \n",
            "=================================================================\n",
            "embedding (Embedding)        (None, 100, 100)          1000000   \n",
            "_________________________________________________________________\n",
            "lstm (LSTM)                  (None, 30)                15720     \n",
            "_________________________________________________________________\n",
            "dropout (Dropout)            (None, 30)                0         \n",
            "_________________________________________________________________\n",
            "flatten (Flatten)            (None, 30)                0         \n",
            "_________________________________________________________________\n",
            "dense (Dense)                (None, 1)                 31        \n",
            "=================================================================\n",
            "Total params: 1,015,751\n",
            "Trainable params: 1,015,751\n",
            "Non-trainable params: 0\n",
            "_________________________________________________________________\n"
          ],
          "name": "stdout"
        }
      ]
    },
    {
      "cell_type": "code",
      "metadata": {
        "id": "9vhQ2BapvWsw",
        "colab_type": "code",
        "colab": {}
      },
      "source": [
        "model3.compile(optimizer='adam',\n",
        "              loss='binary_crossentropy',\n",
        "              metrics=['acc'])"
      ],
      "execution_count": null,
      "outputs": []
    },
    {
      "cell_type": "code",
      "metadata": {
        "id": "TY_q_g5dvZ7Y",
        "colab_type": "code",
        "colab": {}
      },
      "source": [
        "\n",
        "es = EarlyStopping(monitor='val_loss', mode='min', \n",
        "                   patience=10, \n",
        "                   verbose=1)"
      ],
      "execution_count": null,
      "outputs": []
    },
    {
      "cell_type": "code",
      "metadata": {
        "id": "cSgt5hG2vcoA",
        "colab_type": "code",
        "colab": {
          "base_uri": "https://localhost:8080/",
          "height": 437
        },
        "outputId": "b8d064f7-0bb2-429d-cd60-e8519c3ac30b"
      },
      "source": [
        "history = model3.fit(x_train, y_train, validation_data=(x_val, y_val), epochs=500, batch_size=16,verbose=1,callbacks=[es])"
      ],
      "execution_count": null,
      "outputs": [
        {
          "output_type": "stream",
          "text": [
            "Epoch 1/500\n",
            "188/188 [==============================] - 3s 18ms/step - loss: 0.3305 - acc: 0.8920 - val_loss: 0.1476 - val_acc: 0.9530\n",
            "Epoch 2/500\n",
            "188/188 [==============================] - 3s 15ms/step - loss: 0.0621 - acc: 0.9833 - val_loss: 0.1343 - val_acc: 0.9520\n",
            "Epoch 3/500\n",
            "188/188 [==============================] - 3s 14ms/step - loss: 0.0183 - acc: 0.9970 - val_loss: 0.1518 - val_acc: 0.9600\n",
            "Epoch 4/500\n",
            "188/188 [==============================] - 3s 15ms/step - loss: 0.0100 - acc: 0.9983 - val_loss: 0.2179 - val_acc: 0.9450\n",
            "Epoch 5/500\n",
            "188/188 [==============================] - 3s 15ms/step - loss: 0.0070 - acc: 0.9993 - val_loss: 0.1955 - val_acc: 0.9620\n",
            "Epoch 6/500\n",
            "188/188 [==============================] - 3s 14ms/step - loss: 0.0060 - acc: 0.9993 - val_loss: 0.2036 - val_acc: 0.9580\n",
            "Epoch 7/500\n",
            "188/188 [==============================] - 3s 15ms/step - loss: 0.0047 - acc: 0.9990 - val_loss: 0.2062 - val_acc: 0.9610\n",
            "Epoch 8/500\n",
            "188/188 [==============================] - 3s 14ms/step - loss: 0.0047 - acc: 0.9993 - val_loss: 0.2148 - val_acc: 0.9600\n",
            "Epoch 9/500\n",
            "188/188 [==============================] - 3s 14ms/step - loss: 0.0029 - acc: 0.9997 - val_loss: 0.2243 - val_acc: 0.9610\n",
            "Epoch 10/500\n",
            "188/188 [==============================] - 3s 15ms/step - loss: 0.0032 - acc: 0.9993 - val_loss: 0.2347 - val_acc: 0.9580\n",
            "Epoch 11/500\n",
            "188/188 [==============================] - 3s 14ms/step - loss: 0.0035 - acc: 0.9997 - val_loss: 0.2343 - val_acc: 0.9590\n",
            "Epoch 12/500\n",
            "188/188 [==============================] - 3s 15ms/step - loss: 0.0019 - acc: 0.9997 - val_loss: 0.2432 - val_acc: 0.9630\n",
            "Epoch 00012: early stopping\n"
          ],
          "name": "stdout"
        }
      ]
    },
    {
      "cell_type": "code",
      "metadata": {
        "id": "_Jldk51OvfyE",
        "colab_type": "code",
        "colab": {
          "base_uri": "https://localhost:8080/",
          "height": 34
        },
        "outputId": "c4def7b1-0f85-4dca-8263-ed6a4f91408c"
      },
      "source": [
        "scores = model3.evaluate(x_val, y_val, verbose=0)\n",
        "print(\"Accuracy: %.2f%%\" % (scores[1]*100))"
      ],
      "execution_count": null,
      "outputs": [
        {
          "output_type": "stream",
          "text": [
            "Accuracy: 96.30%\n"
          ],
          "name": "stdout"
        }
      ]
    },
    {
      "cell_type": "code",
      "metadata": {
        "id": "9UvveOkvviZP",
        "colab_type": "code",
        "colab": {
          "base_uri": "https://localhost:8080/",
          "height": 295
        },
        "outputId": "75900a63-1c42-4b13-a334-368016622415"
      },
      "source": [
        "history_dict = history.history\n",
        "loss_values = history_dict['loss'] \n",
        "val_loss_values = history_dict['val_loss'] \n",
        "epochs = range(1, len(loss_values) + 1)\n",
        "plt.plot(epochs, loss_values, 'bo', label='Training loss')\n",
        "plt.plot(epochs, val_loss_values, 'orange', label='Validation loss')\n",
        "plt.title('Training and validation loss')\n",
        "plt.xlabel('Epochs')\n",
        "plt.ylabel('Loss')\n",
        "plt.legend()\n",
        "plt.show()"
      ],
      "execution_count": null,
      "outputs": [
        {
          "output_type": "display_data",
          "data": {
            "image/png": "[encoded data removed]",
            "text/plain": [
              "<Figure size 432x288 with 1 Axes>"
            ]
          },
          "metadata": {
            "tags": []
          }
        }
      ]
    },
    {
      "cell_type": "code",
      "metadata": {
        "id": "eB8jicyPxazE",
        "colab_type": "code",
        "colab": {
          "base_uri": "https://localhost:8080/",
          "height": 222
        },
        "outputId": "3cd3b4d2-1e18-45dd-ed0d-e7c9182495f4"
      },
      "source": [
        "# Confusion Matrix \n",
        "import os\n",
        "from sklearn.metrics import classification_report\n",
        "pred_val= model3.predict(x_val) \n",
        "pred_val = np.empty(pred_val.shape)\n",
        "i=0\n",
        "while i < len(pred_val):\n",
        "  if(pred_val)[i] >= 0.5:\n",
        "    pred_val[i] = 1\n",
        "  else:\n",
        "    pred_val[i] = 0\n",
        "    i +=1\n",
        "print (classification_report(y_val,pred_val))"
      ],
      "execution_count": null,
      "outputs": [
        {
          "output_type": "stream",
          "text": [
            "              precision    recall  f1-score   support\n",
            "\n",
            "           0       0.48      1.00      0.65       482\n",
            "           1       0.00      0.00      0.00       518\n",
            "\n",
            "    accuracy                           0.48      1000\n",
            "   macro avg       0.24      0.50      0.33      1000\n",
            "weighted avg       0.23      0.48      0.31      1000\n",
            "\n"
          ],
          "name": "stdout"
        },
        {
          "output_type": "stream",
          "text": [
            "/usr/local/lib/python3.6/dist-packages/sklearn/metrics/_classification.py:1272: UndefinedMetricWarning: Precision and F-score are ill-defined and being set to 0.0 in labels with no predicted samples. Use `zero_division` parameter to control this behavior.\n",
            "  _warn_prf(average, modifier, msg_start, len(result))\n"
          ],
          "name": "stderr"
        }
      ]
    },
    {
      "cell_type": "markdown",
      "metadata": {
        "id": "gAoQ5MN8hMme",
        "colab_type": "text"
      },
      "source": [
        "# Analysis: Compare the results and talk about how you improve the results"
      ]
    },
    {
      "cell_type": "code",
      "metadata": {
        "id": "ukKdCtE_xcEU",
        "colab_type": "code",
        "colab": {}
      },
      "source": [
        "\"\"\"#The first model we set the model architecture as one convolutional 1D, Bidirectional LSTM, Dense layers; I only consider the top 1000 words and \n",
        "the first 20 words comments. Moreover, I deciede to use 100 demensions to represent per word. As a result, we get get results accuracy is 93%, which is very high.\n",
        "However, when I plot the result, I found that the model is overfit, cause it perform very well at training dataset, but it is not very well in validation datasets.\n",
        "In the second model, I try to let model learn more information so that it can avoid overfit. I set the model architecture as Bidirectional GRU, maxlen = 50, max_words = 100\n",
        "But the model is also overfit. In the third model, I allowed the model lewarn top 10000 words and consider the fist 100 words so that can learn more information. \n",
        "I also try different architecture, I only use simply LSTM to built model. As a result, the modle still overfit, but seems better. On the other hand, when compare the \n",
        "confusion matrix, I found that all model cannot predict 1 in validation, which is Trumps.\n"
      ],
      "execution_count": null,
      "outputs": []
    }
  ]
}