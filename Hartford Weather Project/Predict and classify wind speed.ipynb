{
  "nbformat": 4,
  "nbformat_minor": 0,
  "metadata": {
    "colab": {
      "name": "Assignment2.ipynb",
      "provenance": [],
      "collapsed_sections": []
    },
    "kernelspec": {
      "name": "python3",
      "display_name": "Python 3"
    },
    "accelerator": "GPU"
  },
  "cells": [
    {
      "cell_type": "code",
      "metadata": {
        "id": "TVcQIYn1sOMp",
        "colab_type": "code",
        "colab": {
          "base_uri": "https://localhost:8080/",
          "height": 121
        },
        "outputId": "85124717-e847-405c-f1fd-ddcf60c935b0"
      },
      "source": [
        "from google.colab import drive\n",
        "drive.mount('/content/drive')"
      ],
      "execution_count": null,
      "outputs": [
        {
          "output_type": "stream",
          "text": [
            "Go to this URL in a browser: https://accounts.google.com/o/oauth2/auth?client_id=947318989803-6bn6qk8qdgf4n4g3pfee6491hc0brc4i.apps.googleusercontent.com&redirect_uri=urn%3aietf%3awg%3aoauth%3a2.0%3aoob&response_type=code&scope=email%20https%3a%2f%2fwww.googleapis.com%2fauth%2fdocs.test%20https%3a%2f%2fwww.googleapis.com%2fauth%2fdrive%20https%3a%2f%2fwww.googleapis.com%2fauth%2fdrive.photos.readonly%20https%3a%2f%2fwww.googleapis.com%2fauth%2fpeopleapi.readonly\n",
            "\n",
            "Enter your authorization code:\n",
            "··········\n",
            "Mounted at /content/drive\n"
          ],
          "name": "stdout"
        }
      ]
    },
    {
      "cell_type": "code",
      "metadata": {
        "id": "3_GuxeVOsPmn",
        "colab_type": "code",
        "colab": {}
      },
      "source": [
        "# import general necessary packages\n",
        "import pandas as pd\n",
        "import tensorflow as tf\n",
        "import numpy as np\n",
        "import matplotlib.pyplot as plt\n",
        "import os, cv2"
      ],
      "execution_count": null,
      "outputs": []
    },
    {
      "cell_type": "code",
      "metadata": {
        "id": "ZUccj8zNxXI4",
        "colab_type": "code",
        "colab": {}
      },
      "source": [
        "sum()"
      ],
      "execution_count": null,
      "outputs": []
    },
    {
      "cell_type": "code",
      "metadata": {
        "id": "FBqTg_83sZWC",
        "colab_type": "code",
        "colab": {}
      },
      "source": [
        "# import the necessary packages -- CNN_Regression\n",
        "from keras.models import Sequential\n",
        "from keras.layers.convolutional import Conv2D\n",
        "from keras.layers.convolutional import MaxPooling2D\n",
        "from keras.layers.core import Activation\n",
        "from keras.layers.core import Dropout\n",
        "from keras.layers.core import Dense\n",
        "from keras.layers import Flatten\n",
        "from keras.layers import Input\n",
        "from keras.models import Model\n",
        "from keras.optimizers import Adam, RMSprop\n",
        "from numpy.random import seed\n",
        "from numpy import savez_compressed\n",
        "from keras.callbacks import EarlyStopping"
      ],
      "execution_count": null,
      "outputs": []
    },
    {
      "cell_type": "code",
      "metadata": {
        "id": "DTs_NUoesdSt",
        "colab_type": "code",
        "colab": {}
      },
      "source": [
        "# define images data file path (When we define the path, we can use the value word to do next things such as save or load)\n",
        "path = \"/content/drive/My Drive/Spring Deep Learning Class material /Week 3/Weather project /grasped Image/\"\n",
        "train_dir = path + \"Train/\"\n",
        "val_dir = path + \"Validation/\"\n",
        "test_dir = path + \"Test/\"\n",
        "result = path + \"Model Results/\""
      ],
      "execution_count": null,
      "outputs": []
    },
    {
      "cell_type": "code",
      "metadata": {
        "id": "IZx_gFlVtS1U",
        "colab_type": "code",
        "colab": {
          "base_uri": "https://localhost:8080/",
          "height": 54
        },
        "outputId": "1db2d285-41d8-449f-9f93-fb756f228de3"
      },
      "source": [
        "'''\n",
        "# load image train data\n",
        "x_train_images = []\n",
        "# make sure to read it in order\n",
        "for image_path in sorted(os.listdir(train_dir)):\n",
        "  img_path = train_dir + image_path\n",
        "  image = cv2.imread(img_path)\n",
        "  x_train_images.append(image)\n",
        "x_train = np.array(x_train_images)'''"
      ],
      "execution_count": null,
      "outputs": [
        {
          "output_type": "execute_result",
          "data": {
            "text/plain": [
              "'\\n# load image train data\\nx_train_images = []\\n# make sure to read it in order\\nfor image_path in sorted(os.listdir(train_dir)):\\n  img_path = train_dir + image_path\\n  image = cv2.imread(img_path)\\n  x_train_images.append(image)\\nx_train = np.array(x_train_images)'"
            ]
          },
          "metadata": {
            "tags": []
          },
          "execution_count": 11
        }
      ]
    },
    {
      "cell_type": "code",
      "metadata": {
        "id": "CZVM94Lqtzf7",
        "colab_type": "code",
        "colab": {
          "base_uri": "https://localhost:8080/",
          "height": 54
        },
        "outputId": "3b053fff-ce0c-444d-f50c-506edc5077a7"
      },
      "source": [
        "'''# load image validation data\n",
        "x_val_images = []\n",
        "# make sure to read it in order\n",
        "for image_path in sorted(os.listdir(val_dir)):\n",
        "  img_path = val_dir + image_path\n",
        "  image = cv2.imread(img_path)\n",
        "  x_val_images.append(image)\n",
        "x_val = np.array(x_val_images)'''"
      ],
      "execution_count": null,
      "outputs": [
        {
          "output_type": "execute_result",
          "data": {
            "text/plain": [
              "'# load image validation data\\nx_val_images = []\\n# make sure to read it in order\\nfor image_path in sorted(os.listdir(val_dir)):\\n  img_path = val_dir + image_path\\n  image = cv2.imread(img_path)\\n  x_val_images.append(image)\\nx_val = np.array(x_val_images)'"
            ]
          },
          "metadata": {
            "tags": []
          },
          "execution_count": 12
        }
      ]
    },
    {
      "cell_type": "code",
      "metadata": {
        "id": "HrtdDEMwuCUj",
        "colab_type": "code",
        "colab": {
          "base_uri": "https://localhost:8080/",
          "height": 54
        },
        "outputId": "b0188720-3130-44e2-d5b8-6573a196ff8e"
      },
      "source": [
        "'''# load image test data\n",
        "x_test_images = []\n",
        "# make sure to read it in order\n",
        "for image_path in sorted(os.listdir(test_dir)):\n",
        "  img_path = test_dir + image_path\n",
        "  image = cv2.imread(img_path)\n",
        "  x_test_images.append(image)\n",
        "x_test = np.array(x_test_images)'''"
      ],
      "execution_count": null,
      "outputs": [
        {
          "output_type": "execute_result",
          "data": {
            "text/plain": [
              "'# load image test data\\nx_test_images = []\\n# make sure to read it in order\\nfor image_path in sorted(os.listdir(test_dir)):\\n  img_path = test_dir + image_path\\n  image = cv2.imread(img_path)\\n  x_test_images.append(image)\\nx_test = np.array(x_test_images)'"
            ]
          },
          "metadata": {
            "tags": []
          },
          "execution_count": 13
        }
      ]
    },
    {
      "cell_type": "code",
      "metadata": {
        "id": "iprywWXKuEKW",
        "colab_type": "code",
        "colab": {
          "base_uri": "https://localhost:8080/",
          "height": 54
        },
        "outputId": "5dfdd136-f213-4d52-8bbb-10b93d2a281c"
      },
      "source": [
        "'''# save loaded and converted image data \n",
        "savez_compressed(path+'train_data.npz', x_train)\n",
        "savez_compressed(path+'val_data.npz', x_val)\n",
        "savez_compressed(path+'test_data.npz1', x_test)'''"
      ],
      "execution_count": null,
      "outputs": [
        {
          "output_type": "execute_result",
          "data": {
            "text/plain": [
              "\"# save loaded and converted image data \\nsavez_compressed(path+'train_data.npz', x_train)\\nsavez_compressed(path+'val_data.npz', x_val)\\nsavez_compressed(path+'test_data.npz1', x_test)\""
            ]
          },
          "metadata": {
            "tags": []
          },
          "execution_count": 14
        }
      ]
    },
    {
      "cell_type": "code",
      "metadata": {
        "id": "ZVfPCw2TuRH8",
        "colab_type": "code",
        "colab": {}
      },
      "source": [
        "# load image numpy array from npz file\n",
        "from numpy import load\n",
        "# load dict of arrays\n",
        "train_data = load(path+'train_data.npz')\n",
        "x_train = train_data['arr_0']\n",
        "val_data = load(path+'val_data.npz')\n",
        "x_val = val_data['arr_0']\n",
        "test_data = load(path+'test_data.npz')\n",
        "x_test = test_data['arr_0']"
      ],
      "execution_count": null,
      "outputs": []
    },
    {
      "cell_type": "code",
      "metadata": {
        "id": "gSJ6GMIYwARQ",
        "colab_type": "code",
        "colab": {
          "base_uri": "https://localhost:8080/",
          "height": 195
        },
        "outputId": "0001a2c3-b890-49e5-819d-8c315e83f04b"
      },
      "source": [
        "# import weather data\n",
        "target_data = pd.read_csv(\"/content/drive/My Drive/Spring Deep Learning Class material /Week 3/Weather project /grasped Image/model_ready.csv\")\n",
        "target_data.head()"
      ],
      "execution_count": null,
      "outputs": [
        {
          "output_type": "execute_result",
          "data": {
            "text/html": [
              "<div>\n",
              "<style scoped>\n",
              "    .dataframe tbody tr th:only-of-type {\n",
              "        vertical-align: middle;\n",
              "    }\n",
              "\n",
              "    .dataframe tbody tr th {\n",
              "        vertical-align: top;\n",
              "    }\n",
              "\n",
              "    .dataframe thead th {\n",
              "        text-align: right;\n",
              "    }\n",
              "</style>\n",
              "<table border=\"1\" class=\"dataframe\">\n",
              "  <thead>\n",
              "    <tr style=\"text-align: right;\">\n",
              "      <th></th>\n",
              "      <th>valid</th>\n",
              "      <th>tmpf</th>\n",
              "      <th>drct</th>\n",
              "      <th>sknt</th>\n",
              "    </tr>\n",
              "  </thead>\n",
              "  <tbody>\n",
              "    <tr>\n",
              "      <th>0</th>\n",
              "      <td>2016-09-01 00:00:00</td>\n",
              "      <td>75.02</td>\n",
              "      <td>222.500000</td>\n",
              "      <td>5.125000</td>\n",
              "    </tr>\n",
              "    <tr>\n",
              "      <th>1</th>\n",
              "      <td>2016-09-01 01:00:00</td>\n",
              "      <td>73.94</td>\n",
              "      <td>202.857143</td>\n",
              "      <td>4.857143</td>\n",
              "    </tr>\n",
              "    <tr>\n",
              "      <th>2</th>\n",
              "      <td>2016-09-01 02:00:00</td>\n",
              "      <td>73.94</td>\n",
              "      <td>218.181818</td>\n",
              "      <td>4.272727</td>\n",
              "    </tr>\n",
              "    <tr>\n",
              "      <th>3</th>\n",
              "      <td>2016-09-01 03:00:00</td>\n",
              "      <td>73.94</td>\n",
              "      <td>204.444444</td>\n",
              "      <td>4.555556</td>\n",
              "    </tr>\n",
              "    <tr>\n",
              "      <th>4</th>\n",
              "      <td>2016-09-01 04:00:00</td>\n",
              "      <td>73.04</td>\n",
              "      <td>145.000000</td>\n",
              "      <td>2.700000</td>\n",
              "    </tr>\n",
              "  </tbody>\n",
              "</table>\n",
              "</div>"
            ],
            "text/plain": [
              "                 valid   tmpf        drct      sknt\n",
              "0  2016-09-01 00:00:00  75.02  222.500000  5.125000\n",
              "1  2016-09-01 01:00:00  73.94  202.857143  4.857143\n",
              "2  2016-09-01 02:00:00  73.94  218.181818  4.272727\n",
              "3  2016-09-01 03:00:00  73.94  204.444444  4.555556\n",
              "4  2016-09-01 04:00:00  73.04  145.000000  2.700000"
            ]
          },
          "metadata": {
            "tags": []
          },
          "execution_count": 16
        }
      ]
    },
    {
      "cell_type": "code",
      "metadata": {
        "id": "YCXnPJuuwHtJ",
        "colab_type": "code",
        "colab": {
          "base_uri": "https://localhost:8080/",
          "height": 225
        },
        "outputId": "324f3b81-a58f-44bd-ceb3-1ac7675646d5"
      },
      "source": [
        "# convert to a timedate\n",
        "target_data['valid'] =  pd.to_datetime(target_data['valid'])\n",
        "# set timedate to index\n",
        "target_data = target_data.set_index('valid')\n",
        "target_data.head()"
      ],
      "execution_count": null,
      "outputs": [
        {
          "output_type": "execute_result",
          "data": {
            "text/html": [
              "<div>\n",
              "<style scoped>\n",
              "    .dataframe tbody tr th:only-of-type {\n",
              "        vertical-align: middle;\n",
              "    }\n",
              "\n",
              "    .dataframe tbody tr th {\n",
              "        vertical-align: top;\n",
              "    }\n",
              "\n",
              "    .dataframe thead th {\n",
              "        text-align: right;\n",
              "    }\n",
              "</style>\n",
              "<table border=\"1\" class=\"dataframe\">\n",
              "  <thead>\n",
              "    <tr style=\"text-align: right;\">\n",
              "      <th></th>\n",
              "      <th>tmpf</th>\n",
              "      <th>drct</th>\n",
              "      <th>sknt</th>\n",
              "    </tr>\n",
              "    <tr>\n",
              "      <th>valid</th>\n",
              "      <th></th>\n",
              "      <th></th>\n",
              "      <th></th>\n",
              "    </tr>\n",
              "  </thead>\n",
              "  <tbody>\n",
              "    <tr>\n",
              "      <th>2016-09-01 00:00:00</th>\n",
              "      <td>75.02</td>\n",
              "      <td>222.500000</td>\n",
              "      <td>5.125000</td>\n",
              "    </tr>\n",
              "    <tr>\n",
              "      <th>2016-09-01 01:00:00</th>\n",
              "      <td>73.94</td>\n",
              "      <td>202.857143</td>\n",
              "      <td>4.857143</td>\n",
              "    </tr>\n",
              "    <tr>\n",
              "      <th>2016-09-01 02:00:00</th>\n",
              "      <td>73.94</td>\n",
              "      <td>218.181818</td>\n",
              "      <td>4.272727</td>\n",
              "    </tr>\n",
              "    <tr>\n",
              "      <th>2016-09-01 03:00:00</th>\n",
              "      <td>73.94</td>\n",
              "      <td>204.444444</td>\n",
              "      <td>4.555556</td>\n",
              "    </tr>\n",
              "    <tr>\n",
              "      <th>2016-09-01 04:00:00</th>\n",
              "      <td>73.04</td>\n",
              "      <td>145.000000</td>\n",
              "      <td>2.700000</td>\n",
              "    </tr>\n",
              "  </tbody>\n",
              "</table>\n",
              "</div>"
            ],
            "text/plain": [
              "                      tmpf        drct      sknt\n",
              "valid                                           \n",
              "2016-09-01 00:00:00  75.02  222.500000  5.125000\n",
              "2016-09-01 01:00:00  73.94  202.857143  4.857143\n",
              "2016-09-01 02:00:00  73.94  218.181818  4.272727\n",
              "2016-09-01 03:00:00  73.94  204.444444  4.555556\n",
              "2016-09-01 04:00:00  73.04  145.000000  2.700000"
            ]
          },
          "metadata": {
            "tags": []
          },
          "execution_count": 17
        }
      ]
    },
    {
      "cell_type": "code",
      "metadata": {
        "id": "pyTW5TnSyaJa",
        "colab_type": "code",
        "colab": {
          "base_uri": "https://localhost:8080/",
          "height": 84
        },
        "outputId": "63521d64-e09d-4c98-c88d-281ba401d541"
      },
      "source": [
        "target_data.isna().sum()"
      ],
      "execution_count": null,
      "outputs": [
        {
          "output_type": "execute_result",
          "data": {
            "text/plain": [
              "tmpf    21\n",
              "drct     7\n",
              "sknt     3\n",
              "dtype: int64"
            ]
          },
          "metadata": {
            "tags": []
          },
          "execution_count": 18
        }
      ]
    },
    {
      "cell_type": "code",
      "metadata": {
        "id": "wTip6Iv0y1Kb",
        "colab_type": "code",
        "colab": {
          "base_uri": "https://localhost:8080/",
          "height": 431
        },
        "outputId": "752487c4-8b12-4768-e682-2a6be3cc299e"
      },
      "source": [
        "target_data[target_data.sknt == 0]"
      ],
      "execution_count": null,
      "outputs": [
        {
          "output_type": "execute_result",
          "data": {
            "text/html": [
              "<div>\n",
              "<style scoped>\n",
              "    .dataframe tbody tr th:only-of-type {\n",
              "        vertical-align: middle;\n",
              "    }\n",
              "\n",
              "    .dataframe tbody tr th {\n",
              "        vertical-align: top;\n",
              "    }\n",
              "\n",
              "    .dataframe thead th {\n",
              "        text-align: right;\n",
              "    }\n",
              "</style>\n",
              "<table border=\"1\" class=\"dataframe\">\n",
              "  <thead>\n",
              "    <tr style=\"text-align: right;\">\n",
              "      <th></th>\n",
              "      <th>tmpf</th>\n",
              "      <th>drct</th>\n",
              "      <th>sknt</th>\n",
              "    </tr>\n",
              "    <tr>\n",
              "      <th>valid</th>\n",
              "      <th></th>\n",
              "      <th></th>\n",
              "      <th></th>\n",
              "    </tr>\n",
              "  </thead>\n",
              "  <tbody>\n",
              "    <tr>\n",
              "      <th>2016-09-01 15:00:00</th>\n",
              "      <td>69.98</td>\n",
              "      <td>0.0</td>\n",
              "      <td>0.0</td>\n",
              "    </tr>\n",
              "    <tr>\n",
              "      <th>2016-09-04 00:00:00</th>\n",
              "      <td>62.96</td>\n",
              "      <td>0.0</td>\n",
              "      <td>0.0</td>\n",
              "    </tr>\n",
              "    <tr>\n",
              "      <th>2016-09-10 06:00:00</th>\n",
              "      <td>73.04</td>\n",
              "      <td>0.0</td>\n",
              "      <td>0.0</td>\n",
              "    </tr>\n",
              "    <tr>\n",
              "      <th>2016-09-12 09:00:00</th>\n",
              "      <td>51.08</td>\n",
              "      <td>0.0</td>\n",
              "      <td>0.0</td>\n",
              "    </tr>\n",
              "    <tr>\n",
              "      <th>2016-09-13 06:00:00</th>\n",
              "      <td>55.04</td>\n",
              "      <td>0.0</td>\n",
              "      <td>0.0</td>\n",
              "    </tr>\n",
              "    <tr>\n",
              "      <th>...</th>\n",
              "      <td>...</td>\n",
              "      <td>...</td>\n",
              "      <td>...</td>\n",
              "    </tr>\n",
              "    <tr>\n",
              "      <th>2017-08-24 10:00:00</th>\n",
              "      <td>57.90</td>\n",
              "      <td>0.0</td>\n",
              "      <td>0.0</td>\n",
              "    </tr>\n",
              "    <tr>\n",
              "      <th>2017-08-26 10:00:00</th>\n",
              "      <td>51.10</td>\n",
              "      <td>0.0</td>\n",
              "      <td>0.0</td>\n",
              "    </tr>\n",
              "    <tr>\n",
              "      <th>2017-08-28 04:00:00</th>\n",
              "      <td>55.00</td>\n",
              "      <td>0.0</td>\n",
              "      <td>0.0</td>\n",
              "    </tr>\n",
              "    <tr>\n",
              "      <th>2017-08-29 05:00:00</th>\n",
              "      <td>54.00</td>\n",
              "      <td>0.0</td>\n",
              "      <td>0.0</td>\n",
              "    </tr>\n",
              "    <tr>\n",
              "      <th>2017-08-31 10:00:00</th>\n",
              "      <td>55.00</td>\n",
              "      <td>0.0</td>\n",
              "      <td>0.0</td>\n",
              "    </tr>\n",
              "  </tbody>\n",
              "</table>\n",
              "<p>244 rows × 3 columns</p>\n",
              "</div>"
            ],
            "text/plain": [
              "                      tmpf  drct  sknt\n",
              "valid                                 \n",
              "2016-09-01 15:00:00  69.98   0.0   0.0\n",
              "2016-09-04 00:00:00  62.96   0.0   0.0\n",
              "2016-09-10 06:00:00  73.04   0.0   0.0\n",
              "2016-09-12 09:00:00  51.08   0.0   0.0\n",
              "2016-09-13 06:00:00  55.04   0.0   0.0\n",
              "...                    ...   ...   ...\n",
              "2017-08-24 10:00:00  57.90   0.0   0.0\n",
              "2017-08-26 10:00:00  51.10   0.0   0.0\n",
              "2017-08-28 04:00:00  55.00   0.0   0.0\n",
              "2017-08-29 05:00:00  54.00   0.0   0.0\n",
              "2017-08-31 10:00:00  55.00   0.0   0.0\n",
              "\n",
              "[244 rows x 3 columns]"
            ]
          },
          "metadata": {
            "tags": []
          },
          "execution_count": 19
        }
      ]
    },
    {
      "cell_type": "code",
      "metadata": {
        "id": "87JdPHKSzPjh",
        "colab_type": "code",
        "colab": {
          "base_uri": "https://localhost:8080/",
          "height": 225
        },
        "outputId": "d77e7063-88f1-4d67-8e1d-beb7ae646969"
      },
      "source": [
        "# we decide to fill all missing value to 0\n",
        "target_data = target_data.fillna(0)\n",
        "target_data.head()"
      ],
      "execution_count": null,
      "outputs": [
        {
          "output_type": "execute_result",
          "data": {
            "text/html": [
              "<div>\n",
              "<style scoped>\n",
              "    .dataframe tbody tr th:only-of-type {\n",
              "        vertical-align: middle;\n",
              "    }\n",
              "\n",
              "    .dataframe tbody tr th {\n",
              "        vertical-align: top;\n",
              "    }\n",
              "\n",
              "    .dataframe thead th {\n",
              "        text-align: right;\n",
              "    }\n",
              "</style>\n",
              "<table border=\"1\" class=\"dataframe\">\n",
              "  <thead>\n",
              "    <tr style=\"text-align: right;\">\n",
              "      <th></th>\n",
              "      <th>tmpf</th>\n",
              "      <th>drct</th>\n",
              "      <th>sknt</th>\n",
              "    </tr>\n",
              "    <tr>\n",
              "      <th>valid</th>\n",
              "      <th></th>\n",
              "      <th></th>\n",
              "      <th></th>\n",
              "    </tr>\n",
              "  </thead>\n",
              "  <tbody>\n",
              "    <tr>\n",
              "      <th>2016-09-01 00:00:00</th>\n",
              "      <td>75.02</td>\n",
              "      <td>222.500000</td>\n",
              "      <td>5.125000</td>\n",
              "    </tr>\n",
              "    <tr>\n",
              "      <th>2016-09-01 01:00:00</th>\n",
              "      <td>73.94</td>\n",
              "      <td>202.857143</td>\n",
              "      <td>4.857143</td>\n",
              "    </tr>\n",
              "    <tr>\n",
              "      <th>2016-09-01 02:00:00</th>\n",
              "      <td>73.94</td>\n",
              "      <td>218.181818</td>\n",
              "      <td>4.272727</td>\n",
              "    </tr>\n",
              "    <tr>\n",
              "      <th>2016-09-01 03:00:00</th>\n",
              "      <td>73.94</td>\n",
              "      <td>204.444444</td>\n",
              "      <td>4.555556</td>\n",
              "    </tr>\n",
              "    <tr>\n",
              "      <th>2016-09-01 04:00:00</th>\n",
              "      <td>73.04</td>\n",
              "      <td>145.000000</td>\n",
              "      <td>2.700000</td>\n",
              "    </tr>\n",
              "  </tbody>\n",
              "</table>\n",
              "</div>"
            ],
            "text/plain": [
              "                      tmpf        drct      sknt\n",
              "valid                                           \n",
              "2016-09-01 00:00:00  75.02  222.500000  5.125000\n",
              "2016-09-01 01:00:00  73.94  202.857143  4.857143\n",
              "2016-09-01 02:00:00  73.94  218.181818  4.272727\n",
              "2016-09-01 03:00:00  73.94  204.444444  4.555556\n",
              "2016-09-01 04:00:00  73.04  145.000000  2.700000"
            ]
          },
          "metadata": {
            "tags": []
          },
          "execution_count": 20
        }
      ]
    },
    {
      "cell_type": "code",
      "metadata": {
        "id": "0jrF0grKzaOq",
        "colab_type": "code",
        "colab": {}
      },
      "source": [
        "# fill the 0 with the past 5 hous mean\n",
        "# sknt column\n",
        " for i in range(0,8719):\n",
        "  if target_data.iloc[i][2] == 0: # 2 represent the coulumn name. which is equal to 'sknt'. the fist i is means the row number. so this two number is corresponded.\n",
        "    target_data['sknt'].iloc[i] = total = target_data['sknt'].iloc[i-5:i].mean()"
      ],
      "execution_count": null,
      "outputs": []
    },
    {
      "cell_type": "code",
      "metadata": {
        "id": "MdWYdx9Oz5uX",
        "colab_type": "code",
        "colab": {
          "base_uri": "https://localhost:8080/",
          "height": 77
        },
        "outputId": "4932f871-981b-40ba-8a81-96396f26d340"
      },
      "source": [
        "target_data[target_data.sknt == 0] # no 0s anymore"
      ],
      "execution_count": null,
      "outputs": [
        {
          "output_type": "execute_result",
          "data": {
            "text/html": [
              "<div>\n",
              "<style scoped>\n",
              "    .dataframe tbody tr th:only-of-type {\n",
              "        vertical-align: middle;\n",
              "    }\n",
              "\n",
              "    .dataframe tbody tr th {\n",
              "        vertical-align: top;\n",
              "    }\n",
              "\n",
              "    .dataframe thead th {\n",
              "        text-align: right;\n",
              "    }\n",
              "</style>\n",
              "<table border=\"1\" class=\"dataframe\">\n",
              "  <thead>\n",
              "    <tr style=\"text-align: right;\">\n",
              "      <th></th>\n",
              "      <th>tmpf</th>\n",
              "      <th>drct</th>\n",
              "      <th>sknt</th>\n",
              "    </tr>\n",
              "    <tr>\n",
              "      <th>valid</th>\n",
              "      <th></th>\n",
              "      <th></th>\n",
              "      <th></th>\n",
              "    </tr>\n",
              "  </thead>\n",
              "  <tbody>\n",
              "  </tbody>\n",
              "</table>\n",
              "</div>"
            ],
            "text/plain": [
              "Empty DataFrame\n",
              "Columns: [tmpf, drct, sknt]\n",
              "Index: []"
            ]
          },
          "metadata": {
            "tags": []
          },
          "execution_count": 22
        }
      ]
    },
    {
      "cell_type": "code",
      "metadata": {
        "id": "QtpDFlN3z9Yz",
        "colab_type": "code",
        "colab": {}
      },
      "source": [
        "# set train and test dataset\n",
        "a = pd.Timestamp('2017/06/01 00:00:00')\n",
        "b = pd.Timestamp('2017/08/01 00:00:00')\n",
        "sample = target_data[target_data.index < b]\n",
        "train = target_data[target_data.index < a]\n",
        "val = sample[sample.index >= a]\n",
        "test = target_data[target_data.index >= b]"
      ],
      "execution_count": null,
      "outputs": []
    },
    {
      "cell_type": "code",
      "metadata": {
        "id": "QKXCvUPe56it",
        "colab_type": "code",
        "colab": {
          "base_uri": "https://localhost:8080/",
          "height": 195
        },
        "outputId": "d279262f-024c-4a5d-dae9-7b92b69817f2"
      },
      "source": [
        "# separate the data into train, validation and test\n",
        "# tmpf model\n",
        "y_train_3 = train['sknt']\n",
        "y_val_3 = val['sknt']\n",
        "y_test_3 = test['sknt']"
      ],
      "execution_count": null,
      "outputs": [
        {
          "output_type": "error",
          "ename": "NameError",
          "evalue": "ignored",
          "traceback": [
            "\u001b[0;31m---------------------------------------------------------------------------\u001b[0m",
            "\u001b[0;31mNameError\u001b[0m                                 Traceback (most recent call last)",
            "\u001b[0;32m<ipython-input-1-1b0f03d0573b>\u001b[0m in \u001b[0;36m<module>\u001b[0;34m()\u001b[0m\n\u001b[0;32m----> 1\u001b[0;31m \u001b[0my_train_3\u001b[0m \u001b[0;34m=\u001b[0m \u001b[0mtrain\u001b[0m\u001b[0;34m[\u001b[0m\u001b[0;34m'sknt'\u001b[0m\u001b[0;34m]\u001b[0m\u001b[0;34m\u001b[0m\u001b[0;34m\u001b[0m\u001b[0m\n\u001b[0m\u001b[1;32m      2\u001b[0m \u001b[0my_val_3\u001b[0m \u001b[0;34m=\u001b[0m \u001b[0mval\u001b[0m\u001b[0;34m[\u001b[0m\u001b[0;34m'sknt'\u001b[0m\u001b[0;34m]\u001b[0m\u001b[0;34m\u001b[0m\u001b[0;34m\u001b[0m\u001b[0m\n\u001b[1;32m      3\u001b[0m \u001b[0my_test_3\u001b[0m \u001b[0;34m=\u001b[0m \u001b[0mtest\u001b[0m\u001b[0;34m[\u001b[0m\u001b[0;34m'sknt'\u001b[0m\u001b[0;34m]\u001b[0m\u001b[0;34m\u001b[0m\u001b[0;34m\u001b[0m\u001b[0m\n",
            "\u001b[0;31mNameError\u001b[0m: name 'train' is not defined"
          ]
        }
      ]
    },
    {
      "cell_type": "code",
      "metadata": {
        "id": "_SHn5Th16FQG",
        "colab_type": "code",
        "colab": {
          "base_uri": "https://localhost:8080/",
          "height": 195
        },
        "outputId": "b72c12c1-204a-42d1-c479-290245af2d79"
      },
      "source": [
        "print(\"Image train dataset shape: \", x_train.shape, \"Weather train dataset shape: \", train.shape)\n",
        "print(\"Image validation dataset shape: \", x_val.shape, \"Weather validation dataset shape: \", val.shape)\n",
        "print(\"Image test dataset shape: \", x_test.shape, \"Weather test dataset shape: \", test.shape)"
      ],
      "execution_count": null,
      "outputs": [
        {
          "output_type": "error",
          "ename": "NameError",
          "evalue": "ignored",
          "traceback": [
            "\u001b[0;31m---------------------------------------------------------------------------\u001b[0m",
            "\u001b[0;31mNameError\u001b[0m                                 Traceback (most recent call last)",
            "\u001b[0;32m<ipython-input-2-0183df6fbf06>\u001b[0m in \u001b[0;36m<module>\u001b[0;34m()\u001b[0m\n\u001b[0;32m----> 1\u001b[0;31m \u001b[0mprint\u001b[0m\u001b[0;34m(\u001b[0m\u001b[0;34m\"Image train dataset shape: \"\u001b[0m\u001b[0;34m,\u001b[0m \u001b[0mx_train\u001b[0m\u001b[0;34m.\u001b[0m\u001b[0mshape\u001b[0m\u001b[0;34m,\u001b[0m \u001b[0;34m\"Weather train dataset shape: \"\u001b[0m\u001b[0;34m,\u001b[0m \u001b[0mtrain\u001b[0m\u001b[0;34m.\u001b[0m\u001b[0mshape\u001b[0m\u001b[0;34m)\u001b[0m\u001b[0;34m\u001b[0m\u001b[0;34m\u001b[0m\u001b[0m\n\u001b[0m\u001b[1;32m      2\u001b[0m \u001b[0mprint\u001b[0m\u001b[0;34m(\u001b[0m\u001b[0;34m\"Image validation dataset shape: \"\u001b[0m\u001b[0;34m,\u001b[0m \u001b[0mx_val\u001b[0m\u001b[0;34m.\u001b[0m\u001b[0mshape\u001b[0m\u001b[0;34m,\u001b[0m \u001b[0;34m\"Weather validation dataset shape: \"\u001b[0m\u001b[0;34m,\u001b[0m \u001b[0mval\u001b[0m\u001b[0;34m.\u001b[0m\u001b[0mshape\u001b[0m\u001b[0;34m)\u001b[0m\u001b[0;34m\u001b[0m\u001b[0;34m\u001b[0m\u001b[0m\n\u001b[1;32m      3\u001b[0m \u001b[0mprint\u001b[0m\u001b[0;34m(\u001b[0m\u001b[0;34m\"Image test dataset shape: \"\u001b[0m\u001b[0;34m,\u001b[0m \u001b[0mx_test\u001b[0m\u001b[0;34m.\u001b[0m\u001b[0mshape\u001b[0m\u001b[0;34m,\u001b[0m \u001b[0;34m\"Weather test dataset shape: \"\u001b[0m\u001b[0;34m,\u001b[0m \u001b[0mtest\u001b[0m\u001b[0;34m.\u001b[0m\u001b[0mshape\u001b[0m\u001b[0;34m)\u001b[0m\u001b[0;34m\u001b[0m\u001b[0;34m\u001b[0m\u001b[0m\n",
            "\u001b[0;31mNameError\u001b[0m: name 'x_train' is not defined"
          ]
        }
      ]
    },
    {
      "cell_type": "code",
      "metadata": {
        "id": "NNWUSpcwz-ic",
        "colab_type": "code",
        "colab": {}
      },
      "source": [
        "# Model 2 ( we don't need tf.keras ast all)\n",
        "model2 = tf.keras.Sequential()\n",
        "\n",
        "model2.add(tf.keras.layers.Conv2D(filters=128, kernel_size=2, padding='same', activation='relu', input_shape=(125,145,3))) \n",
        "model2.add(tf.keras.layers.MaxPooling2D(pool_size=2))\n",
        "model2.add(tf.keras.layers.Dropout(0.3))\n",
        "\n",
        "model2.add(tf.keras.layers.Conv2D(filters=128, kernel_size=2, padding='same', activation='relu')) # filters refer to what?\n",
        "model2.add(tf.keras.layers.MaxPooling2D(pool_size=2))\n",
        "model2.add(tf.keras.layers.Dropout(0.3))\n",
        "\n",
        "model2.add(tf.keras.layers.Conv2D(filters=64, kernel_size=2, padding='same', activation='relu'))\n",
        "model2.add(tf.keras.layers.MaxPooling2D(pool_size=2))\n",
        "model2.add(tf.keras.layers.Dropout(0.3))\n",
        "\n",
        "model2.add(tf.keras.layers.Flatten())\n",
        "model2.add(tf.keras.layers.Dense(512, activation='relu'))\n",
        "model2.add(tf.keras.layers.Dropout(0.2))\n",
        "model2.add(tf.keras.layers.Dense(512, activation='relu'))\n",
        "model2.add(tf.keras.layers.Dropout(0.2))\n",
        "model2.add(tf.keras.layers.Dense(256, activation='relu'))\n",
        "model2.add(tf.keras.layers.Dropout(0.2))\n",
        "model2.add(tf.keras.layers.Dense(128, activation='relu'))\n",
        "model2.add(tf.keras.layers.Dropout(0.2))\n",
        "model2.add(tf.keras.layers.Dense(1, activation='linear'))"
      ],
      "execution_count": null,
      "outputs": []
    },
    {
      "cell_type": "code",
      "metadata": {
        "id": "MeySA2Bn-sg0",
        "colab_type": "code",
        "colab": {}
      },
      "source": [
        "#opt = Adam(lr=1e-3, decay=1e-3 / 200)\n",
        "model2.compile(optimizer='rmsprop',loss=\"mse\", metrics=['mae'])"
      ],
      "execution_count": null,
      "outputs": []
    },
    {
      "cell_type": "code",
      "metadata": {
        "id": "DQ_ASwPW-xCY",
        "colab_type": "code",
        "colab": {}
      },
      "source": [
        "es2 = EarlyStopping(monitor='val_loss', mode='min', \n",
        "                   # LOOK HOW QUICK IT STOPS IF YOU DON'T USE\n",
        "                   # PATIENCE - SUBJECT TO NOISE!!!\n",
        "                   # will vary based on every problem you tackle\n",
        "                   # try a patience of 2, 5, 10, 50, 100...\n",
        "                   # what do you notice?\n",
        "                   patience=10, \n",
        "                   verbose=1)"
      ],
      "execution_count": null,
      "outputs": []
    },
    {
      "cell_type": "code",
      "metadata": {
        "id": "CnAuRpRf_DjP",
        "colab_type": "code",
        "colab": {}
      },
      "source": [
        "history2 = model2.fit(x_train, y_train_3, validation_data=(x_val, y_val_3), epochs=500, batch_size=5,verbose=1,callbacks=[es2])"
      ],
      "execution_count": null,
      "outputs": []
    },
    {
      "cell_type": "code",
      "metadata": {
        "id": "pUzv0qCm_MB6",
        "colab_type": "code",
        "colab": {}
      },
      "source": [
        "# let's try to extract from history.history\n",
        "x = np.array(history2.epoch)\n",
        "x = max(x)\n",
        "print(\"We should re-run for this many epochs: \", x)"
      ],
      "execution_count": null,
      "outputs": []
    },
    {
      "cell_type": "code",
      "metadata": {
        "id": "op9Fthrk_WnK",
        "colab_type": "code",
        "colab": {}
      },
      "source": [
        "# let's see the training and validation loss by epoch\n",
        "history_dict = history2.history\n",
        "loss_values = history_dict['loss'] # you can change this\n",
        "val_loss_values = history_dict['val_loss'] # you can also change this\n",
        "epochs = range(1, len(loss_values) + 1) #acc wasn't defined before\n",
        "plt.plot(epochs, loss_values, 'bo', label='Training loss')\n",
        "plt.plot(epochs, val_loss_values, 'orange', label='Validation loss')\n",
        "plt.title('Training and validation loss')\n",
        "plt.xlabel('Epochs')\n",
        "plt.ylabel('Loss')\n",
        "plt.legend()\n",
        "plt.show()"
      ],
      "execution_count": null,
      "outputs": []
    },
    {
      "cell_type": "code",
      "metadata": {
        "id": "1sGcEgwN_ai4",
        "colab_type": "code",
        "colab": {}
      },
      "source": [
        "model2.save(\"/content/drive/My Drive/Spring Deep Learning Class material /Week 3/Weather project / “ConvNet_WindRegression_Model_tiz18015.h5\")"
      ],
      "execution_count": null,
      "outputs": []
    },
    {
      "cell_type": "code",
      "metadata": {
        "id": "7Pk9nbP0_oD6",
        "colab_type": "code",
        "colab": {}
      },
      "source": [
        "# make predictions on the testing data\n",
        "print(\"[INFO] predicting weather speed...\")\n",
        "preds_test = model2.predict(x_test)\n",
        "plt.scatter(preds_test, y_test_3)\n",
        "plt.title('sknt Test: Actual vs. Predicted')\n",
        "plt.xlabel('Predicted')\n",
        "plt.ylabel('Actual')\n",
        "plt.savefig(result+'sknt Test.png')"
      ],
      "execution_count": null,
      "outputs": []
    },
    {
      "cell_type": "code",
      "metadata": {
        "id": "6K-ekPdSepS-",
        "colab_type": "code",
        "colab": {}
      },
      "source": [
        "results = model2.evaluate(x_test, y_test_3)\n",
        "results"
      ],
      "execution_count": null,
      "outputs": []
    },
    {
      "cell_type": "code",
      "metadata": {
        "id": "DmrZG1aGeqAf",
        "colab_type": "code",
        "colab": {}
      },
      "source": [
        "print(type(preds_test))\n",
        "print(type(y_test_3))"
      ],
      "execution_count": null,
      "outputs": []
    },
    {
      "cell_type": "code",
      "metadata": {
        "id": "9CKYKzqmlQXe",
        "colab_type": "code",
        "colab": {}
      },
      "source": [
        "myPreds = np.ndarray.flatten(preds_test)\n",
        "myPreds = pd.DataFrame(myPreds)\n",
        "myPreds.reset_index(drop=True)\n",
        "myPreds.rename(columns={0: \"preds_sknt\"}, inplace=True)\n",
        "myPreds['Type'] = 'test'\n",
        "#actual predictions\n",
        "myActual = pd.DataFrame(np.array(y_test_3))\n",
        "myActual.reset_index(drop=True)\n",
        "myActual.rename(columns={0: \"actual_sknt\"}, inplace=True)\n",
        "allResults3 = pd.concat([myActual,myPreds], axis=1)\n",
        "allResults3.head()"
      ],
      "execution_count": null,
      "outputs": []
    },
    {
      "cell_type": "code",
      "metadata": {
        "id": "2XT3ZSjrmnHs",
        "colab_type": "code",
        "colab": {}
      },
      "source": [
        "allResults3.to_csv('/content/drive/My Drive/Spring Deep Learning Class material /Week 3/Weather_project.csv')"
      ],
      "execution_count": null,
      "outputs": []
    },
    {
      "cell_type": "code",
      "metadata": {
        "id": "10M_M50Am5ZP",
        "colab_type": "code",
        "colab": {}
      },
      "source": [
        "# conclusion \n",
        "# from the learning curve, we can see the model is pretty good, there is no overfitting, cause we use early stop method. However, when we see\n",
        "# the scatter plot, it is not very well, which means that the model not lewarn very vell, maybe because symbols about wind speed is not very easy to learn.\n",
        "\n"
      ],
      "execution_count": null,
      "outputs": []
    },
    {
      "cell_type": "markdown",
      "metadata": {
        "id": "vfFPkICz3SdR",
        "colab_type": "text"
      },
      "source": [
        "Part 2 Binary Classification Model for Air Temperature"
      ]
    },
    {
      "cell_type": "code",
      "metadata": {
        "id": "Z9Iof_GNTEGq",
        "colab_type": "code",
        "colab": {}
      },
      "source": [
        "import pandas as pd\n",
        "from sklearn.preprocessing import MinMaxScaler\n",
        "from sklearn.utils import shuffle\n",
        "from sklearn.model_selection import train_test_split\n",
        "from sklearn.metrics import mean_absolute_error\n",
        "from sklearn.linear_model import LinearRegression\n",
        "from keras.models import Sequential\n",
        "from keras.layers import Dense, Dropout\n",
        "from keras.wrappers.scikit_learn import KerasRegressor\n",
        "from keras.wrappers.scikit_learn import KerasClassifier\n",
        "from sklearn.model_selection import GridSearchCV\n",
        "from sklearn.model_selection import KFold"
      ],
      "execution_count": null,
      "outputs": []
    },
    {
      "cell_type": "code",
      "metadata": {
        "id": "9tbYBHibwcBP",
        "colab_type": "code",
        "colab": {
          "base_uri": "https://localhost:8080/",
          "height": 225
        },
        "outputId": "9bb053c0-fd3a-4781-e644-9954fc72d352"
      },
      "source": [
        "target_data.head()"
      ],
      "execution_count": null,
      "outputs": [
        {
          "output_type": "execute_result",
          "data": {
            "text/html": [
              "<div>\n",
              "<style scoped>\n",
              "    .dataframe tbody tr th:only-of-type {\n",
              "        vertical-align: middle;\n",
              "    }\n",
              "\n",
              "    .dataframe tbody tr th {\n",
              "        vertical-align: top;\n",
              "    }\n",
              "\n",
              "    .dataframe thead th {\n",
              "        text-align: right;\n",
              "    }\n",
              "</style>\n",
              "<table border=\"1\" class=\"dataframe\">\n",
              "  <thead>\n",
              "    <tr style=\"text-align: right;\">\n",
              "      <th></th>\n",
              "      <th>tmpf</th>\n",
              "      <th>drct</th>\n",
              "      <th>sknt</th>\n",
              "    </tr>\n",
              "    <tr>\n",
              "      <th>valid</th>\n",
              "      <th></th>\n",
              "      <th></th>\n",
              "      <th></th>\n",
              "    </tr>\n",
              "  </thead>\n",
              "  <tbody>\n",
              "    <tr>\n",
              "      <th>2016-09-01 00:00:00</th>\n",
              "      <td>75.02</td>\n",
              "      <td>222.500000</td>\n",
              "      <td>5.125000</td>\n",
              "    </tr>\n",
              "    <tr>\n",
              "      <th>2016-09-01 01:00:00</th>\n",
              "      <td>73.94</td>\n",
              "      <td>202.857143</td>\n",
              "      <td>4.857143</td>\n",
              "    </tr>\n",
              "    <tr>\n",
              "      <th>2016-09-01 02:00:00</th>\n",
              "      <td>73.94</td>\n",
              "      <td>218.181818</td>\n",
              "      <td>4.272727</td>\n",
              "    </tr>\n",
              "    <tr>\n",
              "      <th>2016-09-01 03:00:00</th>\n",
              "      <td>73.94</td>\n",
              "      <td>204.444444</td>\n",
              "      <td>4.555556</td>\n",
              "    </tr>\n",
              "    <tr>\n",
              "      <th>2016-09-01 04:00:00</th>\n",
              "      <td>73.04</td>\n",
              "      <td>145.000000</td>\n",
              "      <td>2.700000</td>\n",
              "    </tr>\n",
              "  </tbody>\n",
              "</table>\n",
              "</div>"
            ],
            "text/plain": [
              "                      tmpf        drct      sknt\n",
              "valid                                           \n",
              "2016-09-01 00:00:00  75.02  222.500000  5.125000\n",
              "2016-09-01 01:00:00  73.94  202.857143  4.857143\n",
              "2016-09-01 02:00:00  73.94  218.181818  4.272727\n",
              "2016-09-01 03:00:00  73.94  204.444444  4.555556\n",
              "2016-09-01 04:00:00  73.04  145.000000  2.700000"
            ]
          },
          "metadata": {
            "tags": []
          },
          "execution_count": 25
        }
      ]
    },
    {
      "cell_type": "code",
      "metadata": {
        "id": "dh9O4AVEpDYV",
        "colab_type": "code",
        "colab": {
          "base_uri": "https://localhost:8080/",
          "height": 633
        },
        "outputId": "da18012b-7c7e-46eb-91e9-6b3885415fa2"
      },
      "source": [
        "# Create a binary target variable using median_house_value, above average and below average value\n",
        "above_avg = target_data[target_data['tmpf']>= target_data['tmpf'].mean()]\n",
        "below_avg = target_data[target_data['tmpf']< target_data['tmpf'].mean()]\n",
        "above_avg['tmpf'] = 1\n",
        "below_avg['tmpf'] = 0\n",
        "binary_model_data = pd.concat([above_avg,below_avg], axis=0)\n",
        "binary_model_data=binary_model_data.sort_index(axis = 0) \n",
        "binary_model_data"
      ],
      "execution_count": null,
      "outputs": [
        {
          "output_type": "stream",
          "text": [
            "/usr/local/lib/python3.6/dist-packages/ipykernel_launcher.py:3: SettingWithCopyWarning: \n",
            "A value is trying to be set on a copy of a slice from a DataFrame.\n",
            "Try using .loc[row_indexer,col_indexer] = value instead\n",
            "\n",
            "See the caveats in the documentation: http://pandas.pydata.org/pandas-docs/stable/user_guide/indexing.html#returning-a-view-versus-a-copy\n",
            "  This is separate from the ipykernel package so we can avoid doing imports until\n",
            "/usr/local/lib/python3.6/dist-packages/ipykernel_launcher.py:4: SettingWithCopyWarning: \n",
            "A value is trying to be set on a copy of a slice from a DataFrame.\n",
            "Try using .loc[row_indexer,col_indexer] = value instead\n",
            "\n",
            "See the caveats in the documentation: http://pandas.pydata.org/pandas-docs/stable/user_guide/indexing.html#returning-a-view-versus-a-copy\n",
            "  after removing the cwd from sys.path.\n"
          ],
          "name": "stderr"
        },
        {
          "output_type": "execute_result",
          "data": {
            "text/html": [
              "<div>\n",
              "<style scoped>\n",
              "    .dataframe tbody tr th:only-of-type {\n",
              "        vertical-align: middle;\n",
              "    }\n",
              "\n",
              "    .dataframe tbody tr th {\n",
              "        vertical-align: top;\n",
              "    }\n",
              "\n",
              "    .dataframe thead th {\n",
              "        text-align: right;\n",
              "    }\n",
              "</style>\n",
              "<table border=\"1\" class=\"dataframe\">\n",
              "  <thead>\n",
              "    <tr style=\"text-align: right;\">\n",
              "      <th></th>\n",
              "      <th>tmpf</th>\n",
              "      <th>drct</th>\n",
              "      <th>sknt</th>\n",
              "    </tr>\n",
              "    <tr>\n",
              "      <th>valid</th>\n",
              "      <th></th>\n",
              "      <th></th>\n",
              "      <th></th>\n",
              "    </tr>\n",
              "  </thead>\n",
              "  <tbody>\n",
              "    <tr>\n",
              "      <th>2016-09-01 00:00:00</th>\n",
              "      <td>1</td>\n",
              "      <td>222.500000</td>\n",
              "      <td>5.125000</td>\n",
              "    </tr>\n",
              "    <tr>\n",
              "      <th>2016-09-01 01:00:00</th>\n",
              "      <td>1</td>\n",
              "      <td>202.857143</td>\n",
              "      <td>4.857143</td>\n",
              "    </tr>\n",
              "    <tr>\n",
              "      <th>2016-09-01 02:00:00</th>\n",
              "      <td>1</td>\n",
              "      <td>218.181818</td>\n",
              "      <td>4.272727</td>\n",
              "    </tr>\n",
              "    <tr>\n",
              "      <th>2016-09-01 03:00:00</th>\n",
              "      <td>1</td>\n",
              "      <td>204.444444</td>\n",
              "      <td>4.555556</td>\n",
              "    </tr>\n",
              "    <tr>\n",
              "      <th>2016-09-01 04:00:00</th>\n",
              "      <td>1</td>\n",
              "      <td>145.000000</td>\n",
              "      <td>2.700000</td>\n",
              "    </tr>\n",
              "    <tr>\n",
              "      <th>...</th>\n",
              "      <td>...</td>\n",
              "      <td>...</td>\n",
              "      <td>...</td>\n",
              "    </tr>\n",
              "    <tr>\n",
              "      <th>2017-08-31 19:00:00</th>\n",
              "      <td>1</td>\n",
              "      <td>320.000000</td>\n",
              "      <td>8.583333</td>\n",
              "    </tr>\n",
              "    <tr>\n",
              "      <th>2017-08-31 20:00:00</th>\n",
              "      <td>1</td>\n",
              "      <td>305.454545</td>\n",
              "      <td>11.000000</td>\n",
              "    </tr>\n",
              "    <tr>\n",
              "      <th>2017-08-31 21:00:00</th>\n",
              "      <td>1</td>\n",
              "      <td>315.833333</td>\n",
              "      <td>10.583333</td>\n",
              "    </tr>\n",
              "    <tr>\n",
              "      <th>2017-08-31 22:00:00</th>\n",
              "      <td>1</td>\n",
              "      <td>307.500000</td>\n",
              "      <td>9.333333</td>\n",
              "    </tr>\n",
              "    <tr>\n",
              "      <th>2017-08-31 23:00:00</th>\n",
              "      <td>0</td>\n",
              "      <td>301.666667</td>\n",
              "      <td>6.750000</td>\n",
              "    </tr>\n",
              "  </tbody>\n",
              "</table>\n",
              "<p>8719 rows × 3 columns</p>\n",
              "</div>"
            ],
            "text/plain": [
              "                     tmpf        drct       sknt\n",
              "valid                                           \n",
              "2016-09-01 00:00:00     1  222.500000   5.125000\n",
              "2016-09-01 01:00:00     1  202.857143   4.857143\n",
              "2016-09-01 02:00:00     1  218.181818   4.272727\n",
              "2016-09-01 03:00:00     1  204.444444   4.555556\n",
              "2016-09-01 04:00:00     1  145.000000   2.700000\n",
              "...                   ...         ...        ...\n",
              "2017-08-31 19:00:00     1  320.000000   8.583333\n",
              "2017-08-31 20:00:00     1  305.454545  11.000000\n",
              "2017-08-31 21:00:00     1  315.833333  10.583333\n",
              "2017-08-31 22:00:00     1  307.500000   9.333333\n",
              "2017-08-31 23:00:00     0  301.666667   6.750000\n",
              "\n",
              "[8719 rows x 3 columns]"
            ]
          },
          "metadata": {
            "tags": []
          },
          "execution_count": 26
        }
      ]
    },
    {
      "cell_type": "code",
      "metadata": {
        "id": "e-KS6-5AtLGn",
        "colab_type": "code",
        "colab": {
          "base_uri": "https://localhost:8080/",
          "height": 67
        },
        "outputId": "44e99233-e08e-4e29-c648-d25e05979b4e"
      },
      "source": [
        "print(\"Image train dataset shape: \", x_train.shape, \"Weather train dataset shape: \", train.shape)\n",
        "print(\"Image validation dataset shape: \", x_val.shape, \"Weather validation dataset shape: \", val.shape)\n",
        "print(\"Image test dataset shape: \", x_test.shape, \"Weather test dataset shape: \", test.shape)"
      ],
      "execution_count": null,
      "outputs": [
        {
          "output_type": "stream",
          "text": [
            "Image train dataset shape:  (6511, 125, 145, 3) Weather train dataset shape:  (6511, 3)\n",
            "Image validation dataset shape:  (1464, 125, 145, 3) Weather validation dataset shape:  (1464, 3)\n",
            "Image test dataset shape:  (744, 125, 145, 3) Weather test dataset shape:  (744, 3)\n"
          ],
          "name": "stdout"
        }
      ]
    },
    {
      "cell_type": "code",
      "metadata": {
        "id": "yED67VXkBHy9",
        "colab_type": "code",
        "colab": {}
      },
      "source": [
        "# combine x_train, x_val, x_test\n",
        "X = np.concatenate((x_train, x_val,x_test), axis=0)\n",
        "y = binary_model_data.tmpf"
      ],
      "execution_count": null,
      "outputs": []
    },
    {
      "cell_type": "code",
      "metadata": {
        "id": "VEJsUdjUHskp",
        "colab_type": "code",
        "colab": {}
      },
      "source": [
        "# Randomly split X and y to train, validation (1 month) and test (1 month)\n",
        "X_train, X_test, y_train, y_test = train_test_split(X, y, test_size=0.083, random_state= 525)\n",
        "X_train, X_val, y_train, y_val = train_test_split(X_train, y_train, test_size=0.091, random_state=525)"
      ],
      "execution_count": null,
      "outputs": []
    },
    {
      "cell_type": "code",
      "metadata": {
        "id": "ND8ESdt1MY9p",
        "colab_type": "code",
        "colab": {
          "base_uri": "https://localhost:8080/",
          "height": 67
        },
        "outputId": "c86d40dc-b067-4b9b-d5a3-2fb962571536"
      },
      "source": [
        "# check shape\n",
        "print(\"Image train dataset shape: \", X_train.shape, \"Weather train dataset shape: \", y_train.shape)\n",
        "print(\"Image validation dataset shape: \", X_val.shape, \"Weather validation dataset shape: \", y_val.shape)\n",
        "print(\"Image test dataset shape: \", X_test.shape, \"Weather test dataset shape: \", y_test.shape)\n"
      ],
      "execution_count": null,
      "outputs": [
        {
          "output_type": "stream",
          "text": [
            "Image train dataset shape:  (7267, 125, 145, 3) Weather train dataset shape:  (7267,)\n",
            "Image validation dataset shape:  (728, 125, 145, 3) Weather validation dataset shape:  (728,)\n",
            "Image test dataset shape:  (724, 125, 145, 3) Weather test dataset shape:  (724,)\n"
          ],
          "name": "stdout"
        }
      ]
    },
    {
      "cell_type": "code",
      "metadata": {
        "id": "OF6NtaLDMhjV",
        "colab_type": "code",
        "colab": {
          "base_uri": "https://localhost:8080/",
          "height": 255
        },
        "outputId": "928eede0-1153-4e6a-f0dd-4f3948a7480f"
      },
      "source": [
        "# build model\n",
        "from keras import models\n",
        "from keras import layers\n",
        "model1 = models.Sequential()\n",
        "model1.add(layers.Conv2D(filters=128, kernel_size=2, padding='same', activation='relu', input_shape=(125,145,3))) \n",
        "model1.add(layers.MaxPooling2D(pool_size=2))\n",
        "model1.add(layers.Dropout(0.3))\n",
        "\n",
        "model1.add(layers.Conv2D(filters=128, kernel_size=2, padding='same', activation='relu')) \n",
        "model1.add(layers.Dropout(0.3))\n",
        "\n",
        "model1.add(layers.Conv2D(filters=64, kernel_size=2, padding='same', activation='relu'))\n",
        "model1.add(layers.MaxPooling2D(pool_size=2))\n",
        "model1.add(layers.Dropout(0.3))\n",
        "\n",
        "model1.add(layers.Flatten())\n",
        "model1.add(layers.Dense(512, activation='relu'))  # maybe because too many layers.\n",
        "model1.add(layers.Dropout(0.2))\n",
        "model1.add(layers.Dense(512, activation='relu'))\n",
        "model1.add(layers.Dropout(0.2))\n",
        "model1.add(layers.Dense(256, activation='relu'))\n",
        "model1.add(layers.Dropout(0.2))\n",
        "model1.add(layers.Dense(128, activation='relu'))\n",
        "model1.add(layers.Dropout(0.2))\n",
        "model1.add(layers.Dense(1,activation='sigmoid'))\n",
        "\n"
      ],
      "execution_count": null,
      "outputs": [
        {
          "output_type": "stream",
          "text": [
            "WARNING:tensorflow:From /usr/local/lib/python3.6/dist-packages/keras/backend/tensorflow_backend.py:66: The name tf.get_default_graph is deprecated. Please use tf.compat.v1.get_default_graph instead.\n",
            "\n",
            "WARNING:tensorflow:From /usr/local/lib/python3.6/dist-packages/keras/backend/tensorflow_backend.py:541: The name tf.placeholder is deprecated. Please use tf.compat.v1.placeholder instead.\n",
            "\n",
            "WARNING:tensorflow:From /usr/local/lib/python3.6/dist-packages/keras/backend/tensorflow_backend.py:4432: The name tf.random_uniform is deprecated. Please use tf.random.uniform instead.\n",
            "\n",
            "WARNING:tensorflow:From /usr/local/lib/python3.6/dist-packages/keras/backend/tensorflow_backend.py:4267: The name tf.nn.max_pool is deprecated. Please use tf.nn.max_pool2d instead.\n",
            "\n",
            "WARNING:tensorflow:From /usr/local/lib/python3.6/dist-packages/keras/backend/tensorflow_backend.py:148: The name tf.placeholder_with_default is deprecated. Please use tf.compat.v1.placeholder_with_default instead.\n",
            "\n",
            "WARNING:tensorflow:From /usr/local/lib/python3.6/dist-packages/keras/backend/tensorflow_backend.py:3733: calling dropout (from tensorflow.python.ops.nn_ops) with keep_prob is deprecated and will be removed in a future version.\n",
            "Instructions for updating:\n",
            "Please use `rate` instead of `keep_prob`. Rate should be set to `rate = 1 - keep_prob`.\n"
          ],
          "name": "stdout"
        }
      ]
    },
    {
      "cell_type": "code",
      "metadata": {
        "id": "DyRgC0MRM_Os",
        "colab_type": "code",
        "colab": {
          "base_uri": "https://localhost:8080/",
          "height": 154
        },
        "outputId": "ab755c97-7a08-46b9-b7ba-8cfa44c5e4b4"
      },
      "source": [
        "from keras import optimizers\n",
        "model1.compile(loss='binary_crossentropy',\n",
        "              optimizer = optimizers.RMSprop(lr=1e-4),\n",
        "              metrics=['acc'])"
      ],
      "execution_count": null,
      "outputs": [
        {
          "output_type": "stream",
          "text": [
            "WARNING:tensorflow:From /usr/local/lib/python3.6/dist-packages/keras/optimizers.py:793: The name tf.train.Optimizer is deprecated. Please use tf.compat.v1.train.Optimizer instead.\n",
            "\n",
            "WARNING:tensorflow:From /usr/local/lib/python3.6/dist-packages/keras/backend/tensorflow_backend.py:3657: The name tf.log is deprecated. Please use tf.math.log instead.\n",
            "\n",
            "WARNING:tensorflow:From /usr/local/lib/python3.6/dist-packages/tensorflow_core/python/ops/nn_impl.py:183: where (from tensorflow.python.ops.array_ops) is deprecated and will be removed in a future version.\n",
            "Instructions for updating:\n",
            "Use tf.where in 2.0, which has the same broadcast rule as np.where\n"
          ],
          "name": "stdout"
        }
      ]
    },
    {
      "cell_type": "code",
      "metadata": {
        "id": "IgartLwhNHF7",
        "colab_type": "code",
        "colab": {}
      },
      "source": [
        "es1 = EarlyStopping(monitor='val_loss', mode='min', \n",
        "                   patience=5, \n",
        "                   verbose=1)"
      ],
      "execution_count": null,
      "outputs": []
    },
    {
      "cell_type": "code",
      "metadata": {
        "id": "2FeShE8kOxoX",
        "colab_type": "code",
        "colab": {
          "base_uri": "https://localhost:8080/",
          "height": 541
        },
        "outputId": "6ffcc1d6-be53-4206-fb7f-6e30be4e00ba"
      },
      "source": [
        "history1 = model1.fit(X_train, y_train, validation_data=(X_val, y_val), epochs=500, batch_size=5,verbose=1,callbacks=[es1])"
      ],
      "execution_count": null,
      "outputs": [
        {
          "output_type": "stream",
          "text": [
            "WARNING:tensorflow:From /usr/local/lib/python3.6/dist-packages/keras/backend/tensorflow_backend.py:1033: The name tf.assign_add is deprecated. Please use tf.compat.v1.assign_add instead.\n",
            "\n",
            "WARNING:tensorflow:From /usr/local/lib/python3.6/dist-packages/keras/backend/tensorflow_backend.py:1020: The name tf.assign is deprecated. Please use tf.compat.v1.assign instead.\n",
            "\n",
            "WARNING:tensorflow:From /usr/local/lib/python3.6/dist-packages/keras/backend/tensorflow_backend.py:3005: The name tf.Session is deprecated. Please use tf.compat.v1.Session instead.\n",
            "\n",
            "Train on 7267 samples, validate on 728 samples\n",
            "Epoch 1/500\n",
            "WARNING:tensorflow:From /usr/local/lib/python3.6/dist-packages/keras/backend/tensorflow_backend.py:190: The name tf.get_default_session is deprecated. Please use tf.compat.v1.get_default_session instead.\n",
            "\n",
            "WARNING:tensorflow:From /usr/local/lib/python3.6/dist-packages/keras/backend/tensorflow_backend.py:197: The name tf.ConfigProto is deprecated. Please use tf.compat.v1.ConfigProto instead.\n",
            "\n",
            "WARNING:tensorflow:From /usr/local/lib/python3.6/dist-packages/keras/backend/tensorflow_backend.py:207: The name tf.global_variables is deprecated. Please use tf.compat.v1.global_variables instead.\n",
            "\n",
            "WARNING:tensorflow:From /usr/local/lib/python3.6/dist-packages/keras/backend/tensorflow_backend.py:216: The name tf.is_variable_initialized is deprecated. Please use tf.compat.v1.is_variable_initialized instead.\n",
            "\n",
            "WARNING:tensorflow:From /usr/local/lib/python3.6/dist-packages/keras/backend/tensorflow_backend.py:223: The name tf.variables_initializer is deprecated. Please use tf.compat.v1.variables_initializer instead.\n",
            "\n",
            "7267/7267 [==============================] - 71s 10ms/step - loss: 7.9293 - acc: 0.5025 - val_loss: 8.0150 - val_acc: 0.4973\n",
            "Epoch 2/500\n",
            "7267/7267 [==============================] - 54s 7ms/step - loss: 7.9350 - acc: 0.5023 - val_loss: 8.0150 - val_acc: 0.4973\n",
            "Epoch 3/500\n",
            "7267/7267 [==============================] - 54s 7ms/step - loss: 7.9350 - acc: 0.5023 - val_loss: 8.0150 - val_acc: 0.4973\n",
            "Epoch 4/500\n",
            "7267/7267 [==============================] - 54s 7ms/step - loss: 7.9350 - acc: 0.5023 - val_loss: 8.0150 - val_acc: 0.4973\n",
            "Epoch 5/500\n",
            "7267/7267 [==============================] - 54s 7ms/step - loss: 7.9350 - acc: 0.5023 - val_loss: 8.0150 - val_acc: 0.4973\n",
            "Epoch 6/500\n",
            "7267/7267 [==============================] - 54s 7ms/step - loss: 7.9350 - acc: 0.5023 - val_loss: 8.0150 - val_acc: 0.4973\n",
            "Epoch 00006: early stopping\n"
          ],
          "name": "stdout"
        }
      ]
    },
    {
      "cell_type": "code",
      "metadata": {
        "id": "dIxs8-RROz_1",
        "colab_type": "code",
        "colab": {
          "base_uri": "https://localhost:8080/"
        },
        "outputId": "01691f85-2c21-48d8-f4b3-b31ce4d8df8e"
      },
      "source": [
        "# let's try to extract from history.history\n",
        "x = np.array(history1.epoch)\n",
        "x = max(x)\n",
        "print(\"We should re-run for this many epochs: \", x)"
      ],
      "execution_count": null,
      "outputs": [
        {
          "output_type": "stream",
          "text": [
            "We should re-run for this many epochs:  5\n"
          ],
          "name": "stdout"
        }
      ]
    },
    {
      "cell_type": "code",
      "metadata": {
        "id": "7sZeyTITPBoi",
        "colab_type": "code",
        "colab": {}
      },
      "source": [
        "model1.save(\"/content/drive/My Drive/Spring Deep Learning Class material /Week 3/Weather project / “ConvNet_TemperatureClassification_Model4_tiz18015.h5\")"
      ],
      "execution_count": null,
      "outputs": []
    },
    {
      "cell_type": "code",
      "metadata": {
        "id": "h8GbCSBTBZH_",
        "colab_type": "code",
        "colab": {}
      },
      "source": [
        "# preidct for test \n",
        "preds_test = model1.predict(X_test)\n",
        "preds_test = []\n",
        "for i in preds_test:\n",
        "   if i >= 0.5:\n",
        "     preds_test.append(1)\n",
        "   else:\n",
        "     preds_test.append(0)\n",
        "print (classification_report(y_test,preds_test))"
      ],
      "execution_count": null,
      "outputs": []
    },
    {
      "cell_type": "code",
      "metadata": {
        "id": "ueEluLBmPfE1",
        "colab_type": "code",
        "colab": {}
      },
      "source": [
        "from sklearn.metrics import accuracy_score\n",
        "test_score = accuracy_score(y_test, a)\n",
        "test_score "
      ],
      "execution_count": null,
      "outputs": []
    },
    {
      "cell_type": "code",
      "metadata": {
        "id": "62iyD_0gnjkM",
        "colab_type": "code",
        "colab": {}
      },
      "source": [
        "\n",
        "# flatten the 1-D numpy array\n",
        "myPreds = np.ndarray.flatten(preds_test)\n",
        "myPreds = pd.DataFrame(myPreds)\n",
        "myPreds.reset_index(drop=True)\n",
        "myPreds.rename(columns={0: \"preds_test\"}, inplace=True)\n",
        "\n",
        "#actual predictions\n",
        "myActual = pd.DataFrame(np.array(y_test))\n",
        "myActual.reset_index(drop=True)\n",
        "myActual.rename(columns={0: \"actual_test\"}, inplace=True)\n",
        "\n",
        "myprobability = pd.DataFrame(np.array(a))\n",
        "myprobability.reset_index(drop=True)\n",
        "myprobability.rename(columns={0: \"probability_test\"}, inplace=True)\n",
        "\n",
        "allResults_test = pd.concat([myActual,myPreds,myprobability], axis=1)\n",
        "allResults_test.head()\n",
        "allResults_test.to_csv('/content/drive/My Drive/Spring Deep Learning Class material /Week 3/Weather project /Saved_model/predicted_test.csv')"
      ],
      "execution_count": null,
      "outputs": []
    },
    {
      "cell_type": "code",
      "metadata": {
        "id": "mPtUeAijGBFN",
        "colab_type": "code",
        "colab": {}
      },
      "source": [
        "# flatten the 1-D numpy array\n",
        "myPreds = np.ndarray.flatten(preds_train)\n",
        "myPreds = pd.DataFrame(myPreds)\n",
        "myPreds.reset_index(drop=True)\n",
        "myPreds.rename(columns={0: \"preds_train\"}, inplace=True)\n",
        "\n",
        "#actual predictions\n",
        "myActual = pd.DataFrame(np.array(y_train))\n",
        "myActual.reset_index(drop=True)\n",
        "myActual.rename(columns={0: \"actual_train\"}, inplace=True)\n",
        "\n",
        "myprobability = pd.DataFrame(np.array(b))\n",
        "myprobability.reset_index(drop=True)\n",
        "myprobability.rename(columns={0: \"probability_train\"}, inplace=True)\n",
        "\n",
        "allResults_test = pd.concat([myActual,myPreds,myprobability], axis=1)\n",
        "allResults_test.head()\n",
        "allResults_test.to_csv('/content/drive/My Drive/Spring Deep Learning Class material /Week 3/Weather project /Saved_model/predicted_train.csv')\n"
      ],
      "execution_count": null,
      "outputs": []
    },
    {
      "cell_type": "code",
      "metadata": {
        "id": "IGOVhqfGGo2B",
        "colab_type": "code",
        "colab": {}
      },
      "source": [
        ""
      ],
      "execution_count": null,
      "outputs": []
    }
  ]
}